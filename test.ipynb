{
 "cells": [
  {
   "cell_type": "code",
   "execution_count": 53,
   "metadata": {},
   "outputs": [
    {
     "data": {
      "application/vnd.plotly.v1+json": {
       "config": {
        "plotlyServerURL": "https://plot.ly"
       },
       "data": [
        {
         "name": "Wind 1",
         "r": [
          8
         ],
         "type": "barpolar"
        },
        {
         "name": "Wind 2",
         "r": [
          40,
          20,
          50,
          10
         ],
         "type": "barpolar"
        }
       ],
       "layout": {
        "template": {
         "data": {
          "bar": [
           {
            "error_x": {
             "color": "#2a3f5f"
            },
            "error_y": {
             "color": "#2a3f5f"
            },
            "marker": {
             "line": {
              "color": "#E5ECF6",
              "width": 0.5
             },
             "pattern": {
              "fillmode": "overlay",
              "size": 10,
              "solidity": 0.2
             }
            },
            "type": "bar"
           }
          ],
          "barpolar": [
           {
            "marker": {
             "line": {
              "color": "#E5ECF6",
              "width": 0.5
             },
             "pattern": {
              "fillmode": "overlay",
              "size": 10,
              "solidity": 0.2
             }
            },
            "type": "barpolar"
           }
          ],
          "carpet": [
           {
            "aaxis": {
             "endlinecolor": "#2a3f5f",
             "gridcolor": "white",
             "linecolor": "white",
             "minorgridcolor": "white",
             "startlinecolor": "#2a3f5f"
            },
            "baxis": {
             "endlinecolor": "#2a3f5f",
             "gridcolor": "white",
             "linecolor": "white",
             "minorgridcolor": "white",
             "startlinecolor": "#2a3f5f"
            },
            "type": "carpet"
           }
          ],
          "choropleth": [
           {
            "colorbar": {
             "outlinewidth": 0,
             "ticks": ""
            },
            "type": "choropleth"
           }
          ],
          "contour": [
           {
            "colorbar": {
             "outlinewidth": 0,
             "ticks": ""
            },
            "colorscale": [
             [
              0,
              "#0d0887"
             ],
             [
              0.1111111111111111,
              "#46039f"
             ],
             [
              0.2222222222222222,
              "#7201a8"
             ],
             [
              0.3333333333333333,
              "#9c179e"
             ],
             [
              0.4444444444444444,
              "#bd3786"
             ],
             [
              0.5555555555555556,
              "#d8576b"
             ],
             [
              0.6666666666666666,
              "#ed7953"
             ],
             [
              0.7777777777777778,
              "#fb9f3a"
             ],
             [
              0.8888888888888888,
              "#fdca26"
             ],
             [
              1,
              "#f0f921"
             ]
            ],
            "type": "contour"
           }
          ],
          "contourcarpet": [
           {
            "colorbar": {
             "outlinewidth": 0,
             "ticks": ""
            },
            "type": "contourcarpet"
           }
          ],
          "heatmap": [
           {
            "colorbar": {
             "outlinewidth": 0,
             "ticks": ""
            },
            "colorscale": [
             [
              0,
              "#0d0887"
             ],
             [
              0.1111111111111111,
              "#46039f"
             ],
             [
              0.2222222222222222,
              "#7201a8"
             ],
             [
              0.3333333333333333,
              "#9c179e"
             ],
             [
              0.4444444444444444,
              "#bd3786"
             ],
             [
              0.5555555555555556,
              "#d8576b"
             ],
             [
              0.6666666666666666,
              "#ed7953"
             ],
             [
              0.7777777777777778,
              "#fb9f3a"
             ],
             [
              0.8888888888888888,
              "#fdca26"
             ],
             [
              1,
              "#f0f921"
             ]
            ],
            "type": "heatmap"
           }
          ],
          "heatmapgl": [
           {
            "colorbar": {
             "outlinewidth": 0,
             "ticks": ""
            },
            "colorscale": [
             [
              0,
              "#0d0887"
             ],
             [
              0.1111111111111111,
              "#46039f"
             ],
             [
              0.2222222222222222,
              "#7201a8"
             ],
             [
              0.3333333333333333,
              "#9c179e"
             ],
             [
              0.4444444444444444,
              "#bd3786"
             ],
             [
              0.5555555555555556,
              "#d8576b"
             ],
             [
              0.6666666666666666,
              "#ed7953"
             ],
             [
              0.7777777777777778,
              "#fb9f3a"
             ],
             [
              0.8888888888888888,
              "#fdca26"
             ],
             [
              1,
              "#f0f921"
             ]
            ],
            "type": "heatmapgl"
           }
          ],
          "histogram": [
           {
            "marker": {
             "pattern": {
              "fillmode": "overlay",
              "size": 10,
              "solidity": 0.2
             }
            },
            "type": "histogram"
           }
          ],
          "histogram2d": [
           {
            "colorbar": {
             "outlinewidth": 0,
             "ticks": ""
            },
            "colorscale": [
             [
              0,
              "#0d0887"
             ],
             [
              0.1111111111111111,
              "#46039f"
             ],
             [
              0.2222222222222222,
              "#7201a8"
             ],
             [
              0.3333333333333333,
              "#9c179e"
             ],
             [
              0.4444444444444444,
              "#bd3786"
             ],
             [
              0.5555555555555556,
              "#d8576b"
             ],
             [
              0.6666666666666666,
              "#ed7953"
             ],
             [
              0.7777777777777778,
              "#fb9f3a"
             ],
             [
              0.8888888888888888,
              "#fdca26"
             ],
             [
              1,
              "#f0f921"
             ]
            ],
            "type": "histogram2d"
           }
          ],
          "histogram2dcontour": [
           {
            "colorbar": {
             "outlinewidth": 0,
             "ticks": ""
            },
            "colorscale": [
             [
              0,
              "#0d0887"
             ],
             [
              0.1111111111111111,
              "#46039f"
             ],
             [
              0.2222222222222222,
              "#7201a8"
             ],
             [
              0.3333333333333333,
              "#9c179e"
             ],
             [
              0.4444444444444444,
              "#bd3786"
             ],
             [
              0.5555555555555556,
              "#d8576b"
             ],
             [
              0.6666666666666666,
              "#ed7953"
             ],
             [
              0.7777777777777778,
              "#fb9f3a"
             ],
             [
              0.8888888888888888,
              "#fdca26"
             ],
             [
              1,
              "#f0f921"
             ]
            ],
            "type": "histogram2dcontour"
           }
          ],
          "mesh3d": [
           {
            "colorbar": {
             "outlinewidth": 0,
             "ticks": ""
            },
            "type": "mesh3d"
           }
          ],
          "parcoords": [
           {
            "line": {
             "colorbar": {
              "outlinewidth": 0,
              "ticks": ""
             }
            },
            "type": "parcoords"
           }
          ],
          "pie": [
           {
            "automargin": true,
            "type": "pie"
           }
          ],
          "scatter": [
           {
            "fillpattern": {
             "fillmode": "overlay",
             "size": 10,
             "solidity": 0.2
            },
            "type": "scatter"
           }
          ],
          "scatter3d": [
           {
            "line": {
             "colorbar": {
              "outlinewidth": 0,
              "ticks": ""
             }
            },
            "marker": {
             "colorbar": {
              "outlinewidth": 0,
              "ticks": ""
             }
            },
            "type": "scatter3d"
           }
          ],
          "scattercarpet": [
           {
            "marker": {
             "colorbar": {
              "outlinewidth": 0,
              "ticks": ""
             }
            },
            "type": "scattercarpet"
           }
          ],
          "scattergeo": [
           {
            "marker": {
             "colorbar": {
              "outlinewidth": 0,
              "ticks": ""
             }
            },
            "type": "scattergeo"
           }
          ],
          "scattergl": [
           {
            "marker": {
             "colorbar": {
              "outlinewidth": 0,
              "ticks": ""
             }
            },
            "type": "scattergl"
           }
          ],
          "scattermapbox": [
           {
            "marker": {
             "colorbar": {
              "outlinewidth": 0,
              "ticks": ""
             }
            },
            "type": "scattermapbox"
           }
          ],
          "scatterpolar": [
           {
            "marker": {
             "colorbar": {
              "outlinewidth": 0,
              "ticks": ""
             }
            },
            "type": "scatterpolar"
           }
          ],
          "scatterpolargl": [
           {
            "marker": {
             "colorbar": {
              "outlinewidth": 0,
              "ticks": ""
             }
            },
            "type": "scatterpolargl"
           }
          ],
          "scatterternary": [
           {
            "marker": {
             "colorbar": {
              "outlinewidth": 0,
              "ticks": ""
             }
            },
            "type": "scatterternary"
           }
          ],
          "surface": [
           {
            "colorbar": {
             "outlinewidth": 0,
             "ticks": ""
            },
            "colorscale": [
             [
              0,
              "#0d0887"
             ],
             [
              0.1111111111111111,
              "#46039f"
             ],
             [
              0.2222222222222222,
              "#7201a8"
             ],
             [
              0.3333333333333333,
              "#9c179e"
             ],
             [
              0.4444444444444444,
              "#bd3786"
             ],
             [
              0.5555555555555556,
              "#d8576b"
             ],
             [
              0.6666666666666666,
              "#ed7953"
             ],
             [
              0.7777777777777778,
              "#fb9f3a"
             ],
             [
              0.8888888888888888,
              "#fdca26"
             ],
             [
              1,
              "#f0f921"
             ]
            ],
            "type": "surface"
           }
          ],
          "table": [
           {
            "cells": {
             "fill": {
              "color": "#EBF0F8"
             },
             "line": {
              "color": "white"
             }
            },
            "header": {
             "fill": {
              "color": "#C8D4E3"
             },
             "line": {
              "color": "white"
             }
            },
            "type": "table"
           }
          ]
         },
         "layout": {
          "annotationdefaults": {
           "arrowcolor": "#2a3f5f",
           "arrowhead": 0,
           "arrowwidth": 1
          },
          "autotypenumbers": "strict",
          "coloraxis": {
           "colorbar": {
            "outlinewidth": 0,
            "ticks": ""
           }
          },
          "colorscale": {
           "diverging": [
            [
             0,
             "#8e0152"
            ],
            [
             0.1,
             "#c51b7d"
            ],
            [
             0.2,
             "#de77ae"
            ],
            [
             0.3,
             "#f1b6da"
            ],
            [
             0.4,
             "#fde0ef"
            ],
            [
             0.5,
             "#f7f7f7"
            ],
            [
             0.6,
             "#e6f5d0"
            ],
            [
             0.7,
             "#b8e186"
            ],
            [
             0.8,
             "#7fbc41"
            ],
            [
             0.9,
             "#4d9221"
            ],
            [
             1,
             "#276419"
            ]
           ],
           "sequential": [
            [
             0,
             "#0d0887"
            ],
            [
             0.1111111111111111,
             "#46039f"
            ],
            [
             0.2222222222222222,
             "#7201a8"
            ],
            [
             0.3333333333333333,
             "#9c179e"
            ],
            [
             0.4444444444444444,
             "#bd3786"
            ],
            [
             0.5555555555555556,
             "#d8576b"
            ],
            [
             0.6666666666666666,
             "#ed7953"
            ],
            [
             0.7777777777777778,
             "#fb9f3a"
            ],
            [
             0.8888888888888888,
             "#fdca26"
            ],
            [
             1,
             "#f0f921"
            ]
           ],
           "sequentialminus": [
            [
             0,
             "#0d0887"
            ],
            [
             0.1111111111111111,
             "#46039f"
            ],
            [
             0.2222222222222222,
             "#7201a8"
            ],
            [
             0.3333333333333333,
             "#9c179e"
            ],
            [
             0.4444444444444444,
             "#bd3786"
            ],
            [
             0.5555555555555556,
             "#d8576b"
            ],
            [
             0.6666666666666666,
             "#ed7953"
            ],
            [
             0.7777777777777778,
             "#fb9f3a"
            ],
            [
             0.8888888888888888,
             "#fdca26"
            ],
            [
             1,
             "#f0f921"
            ]
           ]
          },
          "colorway": [
           "#636efa",
           "#EF553B",
           "#00cc96",
           "#ab63fa",
           "#FFA15A",
           "#19d3f3",
           "#FF6692",
           "#B6E880",
           "#FF97FF",
           "#FECB52"
          ],
          "font": {
           "color": "#2a3f5f"
          },
          "geo": {
           "bgcolor": "white",
           "lakecolor": "white",
           "landcolor": "#E5ECF6",
           "showlakes": true,
           "showland": true,
           "subunitcolor": "white"
          },
          "hoverlabel": {
           "align": "left"
          },
          "hovermode": "closest",
          "mapbox": {
           "style": "light"
          },
          "paper_bgcolor": "white",
          "plot_bgcolor": "#E5ECF6",
          "polar": {
           "angularaxis": {
            "gridcolor": "white",
            "linecolor": "white",
            "ticks": ""
           },
           "bgcolor": "#E5ECF6",
           "radialaxis": {
            "gridcolor": "white",
            "linecolor": "white",
            "ticks": ""
           }
          },
          "scene": {
           "xaxis": {
            "backgroundcolor": "#E5ECF6",
            "gridcolor": "white",
            "gridwidth": 2,
            "linecolor": "white",
            "showbackground": true,
            "ticks": "",
            "zerolinecolor": "white"
           },
           "yaxis": {
            "backgroundcolor": "#E5ECF6",
            "gridcolor": "white",
            "gridwidth": 2,
            "linecolor": "white",
            "showbackground": true,
            "ticks": "",
            "zerolinecolor": "white"
           },
           "zaxis": {
            "backgroundcolor": "#E5ECF6",
            "gridcolor": "white",
            "gridwidth": 2,
            "linecolor": "white",
            "showbackground": true,
            "ticks": "",
            "zerolinecolor": "white"
           }
          },
          "shapedefaults": {
           "line": {
            "color": "#2a3f5f"
           }
          },
          "ternary": {
           "aaxis": {
            "gridcolor": "white",
            "linecolor": "white",
            "ticks": ""
           },
           "baxis": {
            "gridcolor": "white",
            "linecolor": "white",
            "ticks": ""
           },
           "bgcolor": "#E5ECF6",
           "caxis": {
            "gridcolor": "white",
            "linecolor": "white",
            "ticks": ""
           }
          },
          "title": {
           "x": 0.05
          },
          "xaxis": {
           "automargin": true,
           "gridcolor": "white",
           "linecolor": "white",
           "ticks": "",
           "title": {
            "standoff": 15
           },
           "zerolinecolor": "white",
           "zerolinewidth": 2
          },
          "yaxis": {
           "automargin": true,
           "gridcolor": "white",
           "linecolor": "white",
           "ticks": "",
           "title": {
            "standoff": 15
           },
           "zerolinecolor": "white",
           "zerolinewidth": 2
          }
         }
        }
       }
      }
     },
     "metadata": {},
     "output_type": "display_data"
    }
   ],
   "source": [
    "\n",
    "import plotly.graph_objects as go\n",
    "  \n",
    "fig = go.Figure()\n",
    "  \n",
    "fig.add_trace(go.Barpolar(\n",
    "    r=[8],\n",
    "    name='Wind 1',\n",
    "))\n",
    "  \n",
    "fig.add_trace(go.Barpolar(\n",
    "    r=[40, 20, 50, 10],\n",
    "    name='Wind 2',\n",
    "))\n",
    "  \n",
    "fig.show()"
   ]
  },
  {
   "cell_type": "code",
   "execution_count": 54,
   "metadata": {},
   "outputs": [
    {
     "data": {
      "image/png": "[encoded data removed]",
      "text/plain": [
       "<Figure size 640x480 with 1 Axes>"
      ]
     },
     "metadata": {},
     "output_type": "display_data"
    }
   ],
   "source": [
    "import numpy as np\n",
    "import matplotlib.pyplot as plt\n",
    "\n",
    "\n",
    "# Fixing random state for reproducibility\n",
    "np.random.seed(19680801)\n",
    "\n",
    "# Compute pie slices\n",
    "N = 5\n",
    "theta = np.linspace(0.0, 2 * np.pi, N, endpoint=False)\n",
    "radii = 10 * np.random.rand(N)\n",
    "width = np.pi / 4 * np.random.rand(N)\n",
    "colors = plt.cm.viridis(radii / 10.)\n",
    "\n",
    "ax = plt.subplot(projection='polar')\n",
    "ax.bar(theta, radii, width=width, bottom=0.0, color=colors, alpha=0.5)\n",
    "\n",
    "plt.show()"
   ]
  },
  {
   "cell_type": "code",
   "execution_count": 55,
   "metadata": {},
   "outputs": [
    {
     "data": {
      "text/plain": [
       "<matplotlib.legend.Legend at 0x27d5770b8e0>"
      ]
     },
     "execution_count": 55,
     "metadata": {},
     "output_type": "execute_result"
    },
    {
     "data": {
      "image/png": "[encoded data removed]",
      "text/plain": [
       "<Figure size 640x640 with 1 Axes>"
      ]
     },
     "metadata": {},
     "output_type": "display_data"
    }
   ],
   "source": [
    "import numpy as np\n",
    "from matplotlib import pyplot as plt\n",
    "import matplotlib.cm as cm\n",
    "from math import pi\n",
    "# Uncomment the following line in case you are missing those packages\n",
    "# !pip install windrose openpyxl\n",
    "from windrose import WindroseAxes\n",
    "\n",
    "ax = WindroseAxes.from_ax()\n",
    "ax.box([200.0], [18], bins=np.arange(0, 20, 5))\n",
    "ax.set_legend()\n"
   ]
  },
  {
   "cell_type": "code",
   "execution_count": 56,
   "metadata": {},
   "outputs": [
    {
     "data": {
      "text/plain": [
       "<matplotlib.legend.Legend at 0x27d57708ca0>"
      ]
     },
     "execution_count": 56,
     "metadata": {},
     "output_type": "execute_result"
    },
    {
     "data": {
      "image/png": "[encoded data removed]",
      "text/plain": [
       "<Figure size 640x640 with 1 Axes>"
      ]
     },
     "metadata": {},
     "output_type": "display_data"
    }
   ],
   "source": [
    "ax = WindroseAxes.from_ax()\n",
    "ax.bar([175.0], [2.0], normed=True, opening=0.5, edgecolor='white')\n",
    "ax.set_legend()"
   ]
  },
  {
   "cell_type": "code",
   "execution_count": 57,
   "metadata": {},
   "outputs": [
    {
     "name": "stdout",
     "output_type": "stream",
     "text": [
      "{'current_observation': {'precipitacion_intensidad_alta_mmh': None, 'precipitacion_intensidad_mmh': None, 'extraTemp3_c': '--', 'precip_today_metric': 0.0, 'temp_suelo_2': '--', 'temp_suelo_3': '--', 'temp_suelo_4': '--', 'temp_c': 29.8, 'extraTemp1_c': '--', 'horas_frio': 0.0, 'extraHumid2': '--', 'extraHumid1': '--', 'wind_dir_degrees': '--', 'precipitacion_intensidad_alta_inh': None, 'pressure_mb': 1011.0, 'extraTemp2': '--', 'extraTemp3': '--', 'wind_dir': '--', 'extraTemp1': '--', 'wind_kph': 0.0, 'solarradiation': 0.0, 'hum_suelo_4': '--', 'hum_suelo_3': '--', 'hum_suelo_2': '--', 'hum_suelo_1': '--', 'horas_frio_ef': 0, 'local_epoch': '1691390040', 'observation_time': 'Mon Aug  7 06:34:00 2023', 'eto_mm': 4.83, 'precipitacion_intensidad_inh': None, 'relative_humidity': '74%', 'radiacion_jouls_accumulated': 2146.69, 'dewpoint_c': 25.0, 'temp_suelo_1': '--', 'extraTemp2_c': '--', 'eto_in': 0.19, 'heat_index_c': '--', 'fecha_medicion': '2023-08-07T06:34:00Z', 'eto': 0.19, 'wind_gust_kph': 1.6}}\n",
      "[{'temp_max_c': 41.6, 'temp_min_c': 29.7, 'temp_prom_c': 35.1, 'temp_max_f': 106.9, 'temp_min_f': 85.5, 'temp_prom_f': 95.2, 'hum_max_porc': 68.4, 'hum_prom_porc': 50.4, 'hum_min_porc': 29.2, 'viento_max_kmh': 20.5, 'viento_max_mph': 12.7, 'viento_rafaga_max_kmh': 38.5, 'viento_rafaga_max_mph': 23.9, 'sensacion_max_c': 49.5, 'sensacion_min_c': None, 'sensacion_max_f': 121.1, 'sensacion_min_f': None, 'punto_rocio_max_c': 24.1, 'punto_rocio_min_c': 19.2, 'punto_rocio_max_f': 75.4, 'punto_rocio_min_f': 66.6, 'rain_mm_str': '0-5', 'rain_prob_porc': 25, 'nubosidad_porc': 40.8, 'eto_mm': 7.8, 'eto_in': 0.31, 'radiacion_joules': 2215.1, 'radiacion_mjoules': 22.151, 'horas_frio': 0.0, 'HrsTempMenor10': 0.0, 'HrsTempMenor7_2': 0.0, 'HrsTempMenor0': 0.0, 'HrsTempMayor29': 24.0, 'U_richardson': 0.0, 'GradosDiaB10': 25.6, 'GradosDiaB4_5': 31.1, 'indice_estres': 133.9, 'fecha': '2023-08-06', 'icono': 6}, {'temp_max_c': 42.5, 'temp_min_c': 29.0, 'temp_prom_c': 36.1, 'temp_max_f': 108.5, 'temp_min_f': 84.2, 'temp_prom_f': 97.0, 'hum_max_porc': 72.9, 'hum_prom_porc': 54.0, 'hum_min_porc': 35.9, 'viento_max_kmh': 25.0, 'viento_max_mph': 15.5, 'viento_rafaga_max_kmh': 20.5, 'viento_rafaga_max_mph': 12.7, 'sensacion_max_c': 57.2, 'sensacion_min_c': None, 'sensacion_max_f': 135.0, 'sensacion_min_f': None, 'punto_rocio_max_c': 24.5, 'punto_rocio_min_c': 0.0, 'punto_rocio_max_f': 76.1, 'punto_rocio_min_f': 32.0, 'rain_mm_str': '0-7.5', 'rain_prob_porc': 40, 'nubosidad_porc': 13.3, 'eto_mm': 7.6, 'eto_in': 0.3, 'radiacion_joules': 2117.4, 'radiacion_mjoules': 21.174, 'horas_frio': 0.0, 'HrsTempMenor10': 0.0, 'HrsTempMenor7_2': 0.0, 'HrsTempMenor0': 0.0, 'HrsTempMayor29': 46.0, 'U_richardson': 0.0, 'GradosDiaB10': 51.4, 'GradosDiaB4_5': 62.4, 'indice_estres': 117.9, 'fecha': '2023-08-07', 'icono': 17}, {'temp_max_c': 45.0, 'temp_min_c': 29.8, 'temp_prom_c': 37.2, 'temp_max_f': 113.0, 'temp_min_f': 85.6, 'temp_prom_f': 99.0, 'hum_max_porc': 60.8, 'hum_prom_porc': 47.3, 'hum_min_porc': 29.4, 'viento_max_kmh': 27.4, 'viento_max_mph': 17.0, 'viento_rafaga_max_kmh': 41.1, 'viento_rafaga_max_mph': 25.5, 'sensacion_max_c': 57.5, 'sensacion_min_c': None, 'sensacion_max_f': 135.5, 'sensacion_min_f': None, 'punto_rocio_max_c': 0.0, 'punto_rocio_min_c': 0.0, 'punto_rocio_max_f': 32.0, 'punto_rocio_min_f': 32.0, 'rain_mm_str': '5-15', 'rain_prob_porc': 45, 'nubosidad_porc': 0.0, 'eto_mm': 8.3, 'eto_in': 0.33, 'radiacion_joules': 2139.9, 'radiacion_mjoules': 21.399, 'horas_frio': 0.0, 'HrsTempMenor10': 0.0, 'HrsTempMenor7_2': 0.0, 'HrsTempMenor0': 0.0, 'HrsTempMayor29': 70.0, 'U_richardson': 0.0, 'GradosDiaB10': 78.8, 'GradosDiaB4_5': 95.3, 'indice_estres': 158.2, 'fecha': '2023-08-08', 'icono': 17}, {'temp_max_c': 44.1, 'temp_min_c': 29.9, 'temp_prom_c': 37.5, 'temp_max_f': 111.4, 'temp_min_f': 85.8, 'temp_prom_f': 99.5, 'hum_max_porc': 60.3, 'hum_prom_porc': 48.6, 'hum_min_porc': 42.7, 'viento_max_kmh': 27.5, 'viento_max_mph': 17.1, 'viento_rafaga_max_kmh': 41.3, 'viento_rafaga_max_mph': 25.7, 'sensacion_max_c': 63.9, 'sensacion_min_c': None, 'sensacion_max_f': 147.0, 'sensacion_min_f': None, 'punto_rocio_max_c': 0.0, 'punto_rocio_min_c': 0.0, 'punto_rocio_max_f': 32.0, 'punto_rocio_min_f': 32.0, 'rain_mm_str': '0-5', 'rain_prob_porc': 25, 'nubosidad_porc': 64.2, 'eto_mm': 7.6, 'eto_in': 0.3, 'radiacion_joules': 2253.3, 'radiacion_mjoules': 22.533, 'horas_frio': 0.0, 'HrsTempMenor10': 0.0, 'HrsTempMenor7_2': 0.0, 'HrsTempMenor0': 0.0, 'HrsTempMayor29': 94.0, 'U_richardson': 0.0, 'GradosDiaB10': 105.8, 'GradosDiaB4_5': 127.8, 'indice_estres': 148.3, 'fecha': '2023-08-09', 'icono': 6}, {'temp_max_c': 42.1, 'temp_min_c': 29.4, 'temp_prom_c': 36.1, 'temp_max_f': 107.8, 'temp_min_f': 84.9, 'temp_prom_f': 97.0, 'hum_max_porc': 49.5, 'hum_prom_porc': 39.5, 'hum_min_porc': 32.6, 'viento_max_kmh': 19.3, 'viento_max_mph': 12.0, 'viento_rafaga_max_kmh': 29.0, 'viento_rafaga_max_mph': 18.0, 'sensacion_max_c': 49.0, 'sensacion_min_c': None, 'sensacion_max_f': 120.2, 'sensacion_min_f': None, 'punto_rocio_max_c': 0.0, 'punto_rocio_min_c': 0.0, 'punto_rocio_max_f': 32.0, 'punto_rocio_min_f': 32.0, 'rain_mm_str': None, 'rain_prob_porc': None, 'nubosidad_porc': 36.4, 'eto_mm': 7.5, 'eto_in': 0.3, 'radiacion_joules': 2194.6, 'radiacion_mjoules': 21.946, 'horas_frio': 0.0, 'HrsTempMenor10': 0.0, 'HrsTempMenor7_2': 0.0, 'HrsTempMenor0': 0.0, 'HrsTempMayor29': 118.0, 'U_richardson': 0.0, 'GradosDiaB10': 131.6, 'GradosDiaB4_5': 159.1, 'indice_estres': 189.2, 'fecha': '2023-08-10', 'icono': 0}, {'temp_max_c': 42.5, 'temp_min_c': 28.7, 'temp_prom_c': 36.3, 'temp_max_f': 108.5, 'temp_min_f': 83.7, 'temp_prom_f': 97.3, 'hum_max_porc': 44.3, 'hum_prom_porc': 34.9, 'hum_min_porc': 27.9, 'viento_max_kmh': 21.0, 'viento_max_mph': 13.0, 'viento_rafaga_max_kmh': 31.5, 'viento_rafaga_max_mph': 19.6, 'sensacion_max_c': 47.1, 'sensacion_min_c': None, 'sensacion_max_f': 116.8, 'sensacion_min_f': None, 'punto_rocio_max_c': 0.0, 'punto_rocio_min_c': 0.0, 'punto_rocio_max_f': 32.0, 'punto_rocio_min_f': 32.0, 'rain_mm_str': None, 'rain_prob_porc': None, 'nubosidad_porc': 0.0, 'eto_mm': 8.0, 'eto_in': 0.31, 'radiacion_joules': 2232.6, 'radiacion_mjoules': 22.326, 'horas_frio': 0.0, 'HrsTempMenor10': 0.0, 'HrsTempMenor7_2': 0.0, 'HrsTempMenor0': 0.0, 'HrsTempMayor29': 141.0, 'U_richardson': 0.0, 'GradosDiaB10': 157.2, 'GradosDiaB4_5': 190.2, 'indice_estres': 215.5, 'fecha': '2023-08-11', 'icono': 0}, {'temp_max_c': 43.6, 'temp_min_c': 28.5, 'temp_prom_c': 36.4, 'temp_max_f': 110.5, 'temp_min_f': 83.3, 'temp_prom_f': 97.5, 'hum_max_porc': 60.3, 'hum_prom_porc': 39.5, 'hum_min_porc': 26.1, 'viento_max_kmh': 16.7, 'viento_max_mph': 10.4, 'viento_rafaga_max_kmh': 25.0, 'viento_rafaga_max_mph': 15.5, 'sensacion_max_c': 48.3, 'sensacion_min_c': None, 'sensacion_max_f': 118.9, 'sensacion_min_f': None, 'punto_rocio_max_c': 0.0, 'punto_rocio_min_c': 0.0, 'punto_rocio_max_f': 32.0, 'punto_rocio_min_f': 32.0, 'rain_mm_str': None, 'rain_prob_porc': None, 'nubosidad_porc': 21.0, 'eto_mm': 7.5, 'eto_in': 0.3, 'radiacion_joules': 2195.3, 'radiacion_mjoules': 21.953, 'horas_frio': 0.0, 'HrsTempMenor10': 0.0, 'HrsTempMenor7_2': 0.0, 'HrsTempMenor0': 0.0, 'HrsTempMayor29': 164.0, 'U_richardson': 0.0, 'GradosDiaB10': 183.2, 'GradosDiaB4_5': 221.7, 'indice_estres': 197.5, 'fecha': '2023-08-12', 'icono': 0}, {'temp_max_c': 44.6, 'temp_min_c': 29.2, 'temp_prom_c': 37.2, 'temp_max_f': 112.3, 'temp_min_f': 84.6, 'temp_prom_f': 99.0, 'hum_max_porc': 32.8, 'hum_prom_porc': 26.8, 'hum_min_porc': 21.7, 'viento_max_kmh': 17.1, 'viento_max_mph': 10.6, 'viento_rafaga_max_kmh': 25.7, 'viento_rafaga_max_mph': 16.0, 'sensacion_max_c': 47.5, 'sensacion_min_c': None, 'sensacion_max_f': 117.5, 'sensacion_min_f': None, 'punto_rocio_max_c': 0.0, 'punto_rocio_min_c': 0.0, 'punto_rocio_max_f': 32.0, 'punto_rocio_min_f': 32.0, 'rain_mm_str': None, 'rain_prob_porc': None, 'nubosidad_porc': 23.3, 'eto_mm': 7.3, 'eto_in': 0.29, 'radiacion_joules': 2178.0, 'radiacion_mjoules': 21.78, 'horas_frio': 0.0, 'HrsTempMenor10': 0.0, 'HrsTempMenor7_2': 0.0, 'HrsTempMenor0': 0.0, 'HrsTempMayor29': 188.0, 'U_richardson': 0.0, 'GradosDiaB10': 210.1, 'GradosDiaB4_5': 254.1, 'indice_estres': 265.4, 'fecha': '2023-08-13', 'icono': 0}, {'temp_max_c': 39.8, 'temp_min_c': 29.3, 'temp_prom_c': 34.8, 'temp_max_f': 103.6, 'temp_min_f': 84.7, 'temp_prom_f': 94.6, 'hum_max_porc': 49.4, 'hum_prom_porc': 36.3, 'hum_min_porc': 28.5, 'viento_max_kmh': 19.6, 'viento_max_mph': 12.2, 'viento_rafaga_max_kmh': 29.4, 'viento_rafaga_max_mph': 18.3, 'sensacion_max_c': 43.8, 'sensacion_min_c': None, 'sensacion_max_f': 110.8, 'sensacion_min_f': None, 'punto_rocio_max_c': 0.0, 'punto_rocio_min_c': 0.0, 'punto_rocio_max_f': 32.0, 'punto_rocio_min_f': 32.0, 'rain_mm_str': None, 'rain_prob_porc': None, 'nubosidad_porc': 32.2, 'eto_mm': 8.1, 'eto_in': 0.32, 'radiacion_joules': 2128.6, 'radiacion_mjoules': 21.286, 'horas_frio': 0.0, 'HrsTempMenor10': 0.0, 'HrsTempMenor7_2': 0.0, 'HrsTempMenor0': 0.0, 'HrsTempMayor29': 212.0, 'U_richardson': 0.0, 'GradosDiaB10': 234.6, 'GradosDiaB4_5': 284.1, 'indice_estres': 193.8, 'fecha': '2023-08-14', 'icono': 0}, {'temp_max_c': 39.4, 'temp_min_c': 27.0, 'temp_prom_c': 33.4, 'temp_max_f': 102.9, 'temp_min_f': 80.6, 'temp_prom_f': 92.1, 'hum_max_porc': 57.3, 'hum_prom_porc': 46.8, 'hum_min_porc': 42.7, 'viento_max_kmh': 32.9, 'viento_max_mph': 20.4, 'viento_rafaga_max_kmh': 49.3, 'viento_rafaga_max_mph': 30.6, 'sensacion_max_c': 48.8, 'sensacion_min_c': None, 'sensacion_max_f': 119.8, 'sensacion_min_f': None, 'punto_rocio_max_c': 0.0, 'punto_rocio_min_c': 0.0, 'punto_rocio_max_f': 32.0, 'punto_rocio_min_f': 32.0, 'rain_mm_str': None, 'rain_prob_porc': None, 'nubosidad_porc': 67.7, 'eto_mm': 8.3, 'eto_in': 0.33, 'radiacion_joules': 2004.2, 'radiacion_mjoules': 20.042, 'horas_frio': 0.0, 'HrsTempMenor10': 0.0, 'HrsTempMenor7_2': 0.0, 'HrsTempMenor0': 0.0, 'HrsTempMayor29': 232.0, 'U_richardson': 0.0, 'GradosDiaB10': 257.8, 'GradosDiaB4_5': 312.8, 'indice_estres': 133.0, 'fecha': '2023-08-15', 'icono': 0}, {'temp_max_c': 39.2, 'temp_min_c': 26.1, 'temp_prom_c': 33.3, 'temp_max_f': 102.6, 'temp_min_f': 79.0, 'temp_prom_f': 91.9, 'hum_max_porc': 61.1, 'hum_prom_porc': 44.2, 'hum_min_porc': 32.9, 'viento_max_kmh': 28.2, 'viento_max_mph': 17.5, 'viento_rafaga_max_kmh': 42.3, 'viento_rafaga_max_mph': 26.3, 'sensacion_max_c': 42.8, 'sensacion_min_c': None, 'sensacion_max_f': 109.0, 'sensacion_min_f': None, 'punto_rocio_max_c': 0.0, 'punto_rocio_min_c': 0.0, 'punto_rocio_max_f': 32.0, 'punto_rocio_min_f': 32.0, 'rain_mm_str': None, 'rain_prob_porc': None, 'nubosidad_porc': 51.1, 'eto_mm': 6.9, 'eto_in': 0.27, 'radiacion_joules': 1994.1, 'radiacion_mjoules': 19.941, 'horas_frio': 0.0, 'HrsTempMenor10': 0.0, 'HrsTempMenor7_2': 0.0, 'HrsTempMenor0': 0.0, 'HrsTempMayor29': 250.0, 'U_richardson': 0.0, 'GradosDiaB10': 280.5, 'GradosDiaB4_5': 341.0, 'indice_estres': 151.8, 'fecha': '2023-08-16', 'icono': 0}, {'temp_max_c': 43.8, 'temp_min_c': 29.3, 'temp_prom_c': 36.6, 'temp_max_f': 110.8, 'temp_min_f': 84.7, 'temp_prom_f': 97.9, 'hum_max_porc': 46.8, 'hum_prom_porc': 36.4, 'hum_min_porc': 28.5, 'viento_max_kmh': 27.5, 'viento_max_mph': 17.1, 'viento_rafaga_max_kmh': 41.3, 'viento_rafaga_max_mph': 25.7, 'sensacion_max_c': 50.2, 'sensacion_min_c': None, 'sensacion_max_f': 122.4, 'sensacion_min_f': None, 'punto_rocio_max_c': 0.0, 'punto_rocio_min_c': 0.0, 'punto_rocio_max_f': 32.0, 'punto_rocio_min_f': 32.0, 'rain_mm_str': None, 'rain_prob_porc': None, 'nubosidad_porc': 30.0, 'eto_mm': 8.7, 'eto_in': 0.34, 'radiacion_joules': 1835.1, 'radiacion_mjoules': 18.351, 'horas_frio': 0.0, 'HrsTempMenor10': 0.0, 'HrsTempMenor7_2': 0.0, 'HrsTempMenor0': 0.0, 'HrsTempMayor29': 274.0, 'U_richardson': 0.0, 'GradosDiaB10': 307.0, 'GradosDiaB4_5': 373.0, 'indice_estres': 211.3, 'fecha': '2023-08-17', 'icono': 0}, {'temp_max_c': 42.1, 'temp_min_c': 29.1, 'temp_prom_c': 35.2, 'temp_max_f': 107.8, 'temp_min_f': 84.4, 'temp_prom_f': 95.4, 'hum_max_porc': 42.6, 'hum_prom_porc': 36.1, 'hum_min_porc': 30.5, 'viento_max_kmh': 20.6, 'viento_max_mph': 12.8, 'viento_rafaga_max_kmh': 30.9, 'viento_rafaga_max_mph': 19.2, 'sensacion_max_c': 47.7, 'sensacion_min_c': None, 'sensacion_max_f': 117.9, 'sensacion_min_f': None, 'punto_rocio_max_c': 0.0, 'punto_rocio_min_c': 0.0, 'punto_rocio_max_f': 32.0, 'punto_rocio_min_f': 32.0, 'rain_mm_str': None, 'rain_prob_porc': None, 'nubosidad_porc': 11.5, 'eto_mm': 7.1, 'eto_in': 0.28, 'radiacion_joules': 2144.2, 'radiacion_mjoules': 21.442, 'horas_frio': 0.0, 'HrsTempMenor10': 0.0, 'HrsTempMenor7_2': 0.0, 'HrsTempMenor0': 0.0, 'HrsTempMayor29': 298.0, 'U_richardson': 0.0, 'GradosDiaB10': 332.6, 'GradosDiaB4_5': 404.1, 'indice_estres': 199.0, 'fecha': '2023-08-18', 'icono': 0}, {'temp_max_c': 37.7, 'temp_min_c': 27.5, 'temp_prom_c': 33.3, 'temp_max_f': 99.9, 'temp_min_f': 81.5, 'temp_prom_f': 91.9, 'hum_max_porc': 72.0, 'hum_prom_porc': 54.5, 'hum_min_porc': 43.2, 'viento_max_kmh': 22.0, 'viento_max_mph': 13.7, 'viento_rafaga_max_kmh': 33.0, 'viento_rafaga_max_mph': 20.5, 'sensacion_max_c': 45.3, 'sensacion_min_c': None, 'sensacion_max_f': 113.5, 'sensacion_min_f': None, 'punto_rocio_max_c': 0.0, 'punto_rocio_min_c': 0.0, 'punto_rocio_max_f': 32.0, 'punto_rocio_min_f': 32.0, 'rain_mm_str': None, 'rain_prob_porc': None, 'nubosidad_porc': 11.0, 'eto_mm': 7.6, 'eto_in': 0.3, 'radiacion_joules': 2126.2, 'radiacion_mjoules': 21.262, 'horas_frio': 0.0, 'HrsTempMenor10': 0.0, 'HrsTempMenor7_2': 0.0, 'HrsTempMenor0': 0.0, 'HrsTempMayor29': 319.0, 'U_richardson': 0.0, 'GradosDiaB10': 355.2, 'GradosDiaB4_5': 432.2, 'indice_estres': 100.0, 'fecha': '2023-08-19', 'icono': 0}, {'temp_max_c': 38.3, 'temp_min_c': 25.4, 'temp_prom_c': 32.3, 'temp_max_f': 100.9, 'temp_min_f': 77.7, 'temp_prom_f': 90.1, 'hum_max_porc': 61.0, 'hum_prom_porc': 49.1, 'hum_min_porc': 41.0, 'viento_max_kmh': 24.8, 'viento_max_mph': 15.4, 'viento_rafaga_max_kmh': 37.2, 'viento_rafaga_max_mph': 23.1, 'sensacion_max_c': 46.1, 'sensacion_min_c': None, 'sensacion_max_f': 115.0, 'sensacion_min_f': None, 'punto_rocio_max_c': 0.0, 'punto_rocio_min_c': 0.0, 'punto_rocio_max_f': 32.0, 'punto_rocio_min_f': 32.0, 'rain_mm_str': None, 'rain_prob_porc': None, 'nubosidad_porc': 33.5, 'eto_mm': 7.6, 'eto_in': 0.3, 'radiacion_joules': 2126.2, 'radiacion_mjoules': 21.262, 'horas_frio': 0.0, 'HrsTempMenor10': 0.0, 'HrsTempMenor7_2': 0.0, 'HrsTempMenor0': 0.0, 'HrsTempMayor29': 336.0, 'U_richardson': 0.0, 'GradosDiaB10': 377.0, 'GradosDiaB4_5': 459.5, 'indice_estres': 118.8, 'fecha': '2023-08-20', 'icono': 0}, {'temp_max_c': 37.5, 'temp_min_c': 26.3, 'temp_prom_c': 33.0, 'temp_max_f': 99.5, 'temp_min_f': 79.3, 'temp_prom_f': 91.4, 'hum_max_porc': 60.4, 'hum_prom_porc': 53.9, 'hum_min_porc': 43.2, 'viento_max_kmh': 23.0, 'viento_max_mph': 14.3, 'viento_rafaga_max_kmh': 34.5, 'viento_rafaga_max_mph': 21.4, 'sensacion_max_c': 46.2, 'sensacion_min_c': None, 'sensacion_max_f': 115.2, 'sensacion_min_f': None, 'punto_rocio_max_c': 0.0, 'punto_rocio_min_c': 0.0, 'punto_rocio_max_f': 32.0, 'punto_rocio_min_f': 32.0, 'rain_mm_str': None, 'rain_prob_porc': None, 'nubosidad_porc': 70.5, 'eto_mm': 5.8, 'eto_in': 0.23, 'radiacion_joules': 1549.2, 'radiacion_mjoules': 15.492, 'horas_frio': 0.0, 'HrsTempMenor10': 0.0, 'HrsTempMenor7_2': 0.0, 'HrsTempMenor0': 0.0, 'HrsTempMayor29': 355.0, 'U_richardson': 0.0, 'GradosDiaB10': 398.9, 'GradosDiaB4_5': 486.9, 'indice_estres': 99.3, 'fecha': '2023-08-21', 'icono': 0}, {'temp_max_c': 39.0, 'temp_min_c': 27.8, 'temp_prom_c': 33.7, 'temp_max_f': 102.2, 'temp_min_f': 82.0, 'temp_prom_f': 92.7, 'hum_max_porc': 60.6, 'hum_prom_porc': 49.5, 'hum_min_porc': 41.2, 'viento_max_kmh': 17.3, 'viento_max_mph': 10.7, 'viento_rafaga_max_kmh': 26.0, 'viento_rafaga_max_mph': 16.2, 'sensacion_max_c': 46.4, 'sensacion_min_c': None, 'sensacion_max_f': 115.5, 'sensacion_min_f': None, 'punto_rocio_max_c': 0.0, 'punto_rocio_min_c': 0.0, 'punto_rocio_max_f': 32.0, 'punto_rocio_min_f': 32.0, 'rain_mm_str': None, 'rain_prob_porc': None, 'nubosidad_porc': 12.6, 'eto_mm': 6.7, 'eto_in': 0.26, 'radiacion_joules': 2090.5, 'radiacion_mjoules': 20.905, 'horas_frio': 0.0, 'HrsTempMenor10': 0.0, 'HrsTempMenor7_2': 0.0, 'HrsTempMenor0': 0.0, 'HrsTempMayor29': 374.0, 'U_richardson': 0.0, 'GradosDiaB10': 422.3, 'GradosDiaB4_5': 515.8, 'indice_estres': 126.1, 'fecha': '2023-08-22', 'icono': 0}, {'temp_max_c': 38.0, 'temp_min_c': 27.9, 'temp_prom_c': 33.9, 'temp_max_f': 100.4, 'temp_min_f': 82.2, 'temp_prom_f': 93.0, 'hum_max_porc': 71.1, 'hum_prom_porc': 55.4, 'hum_min_porc': 46.4, 'viento_max_kmh': 22.5, 'viento_max_mph': 14.0, 'viento_rafaga_max_kmh': 33.8, 'viento_rafaga_max_mph': 21.0, 'sensacion_max_c': 48.4, 'sensacion_min_c': None, 'sensacion_max_f': 119.1, 'sensacion_min_f': None, 'punto_rocio_max_c': 0.0, 'punto_rocio_min_c': 0.0, 'punto_rocio_max_f': 32.0, 'punto_rocio_min_f': 32.0, 'rain_mm_str': None, 'rain_prob_porc': None, 'nubosidad_porc': 32.0, 'eto_mm': 6.9, 'eto_in': 0.27, 'radiacion_joules': 1937.5, 'radiacion_mjoules': 19.375, 'horas_frio': 0.0, 'HrsTempMenor10': 0.0, 'HrsTempMenor7_2': 0.0, 'HrsTempMenor0': 0.0, 'HrsTempMayor29': 397.0, 'U_richardson': 0.0, 'GradosDiaB10': 445.3, 'GradosDiaB4_5': 544.3, 'indice_estres': 97.5, 'fecha': '2023-08-23', 'icono': 0}, {'temp_max_c': 37.0, 'temp_min_c': 26.5, 'temp_prom_c': 32.2, 'temp_max_f': 98.6, 'temp_min_f': 79.7, 'temp_prom_f': 90.0, 'hum_max_porc': 70.4, 'hum_prom_porc': 55.7, 'hum_min_porc': 45.4, 'viento_max_kmh': 20.0, 'viento_max_mph': 12.4, 'viento_rafaga_max_kmh': 30.0, 'viento_rafaga_max_mph': 18.6, 'sensacion_max_c': 44.0, 'sensacion_min_c': None, 'sensacion_max_f': 111.2, 'sensacion_min_f': None, 'punto_rocio_max_c': 0.0, 'punto_rocio_min_c': 0.0, 'punto_rocio_max_f': 32.0, 'punto_rocio_min_f': 32.0, 'rain_mm_str': None, 'rain_prob_porc': None, 'nubosidad_porc': 18.9, 'eto_mm': 6.8, 'eto_in': 0.27, 'radiacion_joules': 1889.5, 'radiacion_mjoules': 18.895, 'horas_frio': 0.0, 'HrsTempMenor10': 0.0, 'HrsTempMenor7_2': 0.0, 'HrsTempMenor0': 0.0, 'HrsTempMayor29': 414.0, 'U_richardson': 0.0, 'GradosDiaB10': 467.1, 'GradosDiaB4_5': 571.6, 'indice_estres': 92.0, 'fecha': '2023-08-24', 'icono': 0}, {'temp_max_c': 38.0, 'temp_min_c': 26.8, 'temp_prom_c': 31.8, 'temp_max_f': 100.4, 'temp_min_f': 80.2, 'temp_prom_f': 89.2, 'hum_max_porc': 62.0, 'hum_prom_porc': 49.4, 'hum_min_porc': 37.8, 'viento_max_kmh': 13.1, 'viento_max_mph': 8.1, 'viento_rafaga_max_kmh': 19.6, 'viento_rafaga_max_mph': 12.2, 'sensacion_max_c': 42.4, 'sensacion_min_c': None, 'sensacion_max_f': 108.3, 'sensacion_min_f': None, 'punto_rocio_max_c': 0.0, 'punto_rocio_min_c': 0.0, 'punto_rocio_max_f': 32.0, 'punto_rocio_min_f': 32.0, 'rain_mm_str': None, 'rain_prob_porc': None, 'nubosidad_porc': 34.4, 'eto_mm': 6.2, 'eto_in': 0.24, 'radiacion_joules': 1990.6, 'radiacion_mjoules': 19.906, 'horas_frio': 0.0, 'HrsTempMenor10': 0.0, 'HrsTempMenor7_2': 0.0, 'HrsTempMenor0': 0.0, 'HrsTempMayor29': 430.0, 'U_richardson': 0.0, 'GradosDiaB10': 489.5, 'GradosDiaB4_5': 599.5, 'indice_estres': 117.5, 'fecha': '2023-08-25', 'icono': 0}, {'temp_max_c': 40.0, 'temp_min_c': 28.0, 'temp_prom_c': 34.3, 'temp_max_f': 104.0, 'temp_min_f': 82.4, 'temp_prom_f': 93.7, 'hum_max_porc': 52.6, 'hum_prom_porc': 43.3, 'hum_min_porc': 35.1, 'viento_max_kmh': 17.8, 'viento_max_mph': 11.1, 'viento_rafaga_max_kmh': 26.7, 'viento_rafaga_max_mph': 16.6, 'sensacion_max_c': 45.6, 'sensacion_min_c': None, 'sensacion_max_f': 114.1, 'sensacion_min_f': None, 'punto_rocio_max_c': 0.0, 'punto_rocio_min_c': 0.0, 'punto_rocio_max_f': 32.0, 'punto_rocio_min_f': 32.0, 'rain_mm_str': None, 'rain_prob_porc': None, 'nubosidad_porc': 12.3, 'eto_mm': 6.2, 'eto_in': 0.24, 'radiacion_joules': 1944.3, 'radiacion_mjoules': 19.443, 'horas_frio': 0.0, 'HrsTempMenor10': 0.0, 'HrsTempMenor7_2': 0.0, 'HrsTempMenor0': 0.0, 'HrsTempMayor29': 452.0, 'U_richardson': 0.0, 'GradosDiaB10': 513.5, 'GradosDiaB4_5': 629.0, 'indice_estres': 158.0, 'fecha': '2023-08-26', 'icono': 0}, {'temp_max_c': 40.9, 'temp_min_c': 29.4, 'temp_prom_c': 35.4, 'temp_max_f': 105.6, 'temp_min_f': 84.9, 'temp_prom_f': 95.7, 'hum_max_porc': 50.3, 'hum_prom_porc': 38.8, 'hum_min_porc': 30.0, 'viento_max_kmh': 13.8, 'viento_max_mph': 8.6, 'viento_rafaga_max_kmh': 20.7, 'viento_rafaga_max_mph': 12.9, 'sensacion_max_c': 44.9, 'sensacion_min_c': None, 'sensacion_max_f': 112.8, 'sensacion_min_f': None, 'punto_rocio_max_c': 0.0, 'punto_rocio_min_c': 0.0, 'punto_rocio_max_f': 32.0, 'punto_rocio_min_f': 32.0, 'rain_mm_str': None, 'rain_prob_porc': None, 'nubosidad_porc': 17.4, 'eto_mm': 5.9, 'eto_in': 0.23, 'radiacion_joules': 1834.7, 'radiacion_mjoules': 18.347, 'horas_frio': 0.0, 'HrsTempMenor10': 0.0, 'HrsTempMenor7_2': 0.0, 'HrsTempMenor0': 0.0, 'HrsTempMayor29': 476.0, 'U_richardson': 0.0, 'GradosDiaB10': 538.6, 'GradosDiaB4_5': 659.6, 'indice_estres': 188.9, 'fecha': '2023-08-27', 'icono': 0}, {'temp_max_c': 42.7, 'temp_min_c': 30.1, 'temp_prom_c': 36.3, 'temp_max_f': 108.9, 'temp_min_f': 86.2, 'temp_prom_f': 97.3, 'hum_max_porc': 47.7, 'hum_prom_porc': 34.5, 'hum_min_porc': 23.0, 'viento_max_kmh': 11.2, 'viento_max_mph': 7.0, 'viento_rafaga_max_kmh': 16.8, 'viento_rafaga_max_mph': 10.4, 'sensacion_max_c': 44.9, 'sensacion_min_c': None, 'sensacion_max_f': 112.8, 'sensacion_min_f': None, 'punto_rocio_max_c': 0.0, 'punto_rocio_min_c': 0.0, 'punto_rocio_max_f': 32.0, 'punto_rocio_min_f': 32.0, 'rain_mm_str': None, 'rain_prob_porc': None, 'nubosidad_porc': 3.3, 'eto_mm': 6.5, 'eto_in': 0.26, 'radiacion_joules': 2073.6, 'radiacion_mjoules': 20.736, 'horas_frio': 0.0, 'HrsTempMenor10': 0.0, 'HrsTempMenor7_2': 0.0, 'HrsTempMenor0': 0.0, 'HrsTempMayor29': 500.0, 'U_richardson': 0.0, 'GradosDiaB10': 565.0, 'GradosDiaB4_5': 691.5, 'indice_estres': 218.6, 'fecha': '2023-08-28', 'icono': 0}, {'temp_max_c': 44.2, 'temp_min_c': 31.2, 'temp_prom_c': 37.3, 'temp_max_f': 111.6, 'temp_min_f': 88.2, 'temp_prom_f': 99.1, 'hum_max_porc': 42.1, 'hum_prom_porc': 30.7, 'hum_min_porc': 20.5, 'viento_max_kmh': 17.0, 'viento_max_mph': 10.6, 'viento_rafaga_max_kmh': 25.5, 'viento_rafaga_max_mph': 15.8, 'sensacion_max_c': 46.1, 'sensacion_min_c': None, 'sensacion_max_f': 115.0, 'sensacion_min_f': None, 'punto_rocio_max_c': 0.0, 'punto_rocio_min_c': 0.0, 'punto_rocio_max_f': 32.0, 'punto_rocio_min_f': 32.0, 'rain_mm_str': None, 'rain_prob_porc': None, 'nubosidad_porc': 0.0, 'eto_mm': 7.1, 'eto_in': 0.28, 'radiacion_joules': 2100.3, 'radiacion_mjoules': 21.003, 'horas_frio': 0.0, 'HrsTempMenor10': 0.0, 'HrsTempMenor7_2': 0.0, 'HrsTempMenor0': 0.0, 'HrsTempMayor29': 524.0, 'U_richardson': 0.0, 'GradosDiaB10': 592.7, 'GradosDiaB4_5': 724.7, 'indice_estres': 247.4, 'fecha': '2023-08-29', 'icono': 0}, {'temp_max_c': 39.9, 'temp_min_c': 28.3, 'temp_prom_c': 35.3, 'temp_max_f': 103.8, 'temp_min_f': 82.9, 'temp_prom_f': 95.5, 'hum_max_porc': 71.7, 'hum_prom_porc': 46.3, 'hum_min_porc': 33.1, 'viento_max_kmh': 32.2, 'viento_max_mph': 20.0, 'viento_rafaga_max_kmh': 48.3, 'viento_rafaga_max_mph': 30.0, 'sensacion_max_c': 46.1, 'sensacion_min_c': None, 'sensacion_max_f': 115.0, 'sensacion_min_f': None, 'punto_rocio_max_c': 0.0, 'punto_rocio_min_c': 0.0, 'punto_rocio_max_f': 32.0, 'punto_rocio_min_f': 32.0, 'rain_mm_str': None, 'rain_prob_porc': None, 'nubosidad_porc': 3.4, 'eto_mm': 8.2, 'eto_in': 0.32, 'radiacion_joules': 2066.4, 'radiacion_mjoules': 20.664, 'horas_frio': 0.0, 'HrsTempMenor10': 0.0, 'HrsTempMenor7_2': 0.0, 'HrsTempMenor0': 0.0, 'HrsTempMayor29': 547.0, 'U_richardson': 0.0, 'GradosDiaB10': 616.8, 'GradosDiaB4_5': 754.3, 'indice_estres': 150.9, 'fecha': '2023-08-30', 'icono': 0}, {'temp_max_c': 36.3, 'temp_min_c': 27.4, 'temp_prom_c': 32.3, 'temp_max_f': 97.3, 'temp_min_f': 81.3, 'temp_prom_f': 90.1, 'hum_max_porc': 71.5, 'hum_prom_porc': 61.2, 'hum_min_porc': 53.4, 'viento_max_kmh': 31.0, 'viento_max_mph': 19.3, 'viento_rafaga_max_kmh': 46.5, 'viento_rafaga_max_mph': 28.9, 'sensacion_max_c': 46.0, 'sensacion_min_c': None, 'sensacion_max_f': 114.8, 'sensacion_min_f': None, 'punto_rocio_max_c': 0.0, 'punto_rocio_min_c': 0.0, 'punto_rocio_max_f': 32.0, 'punto_rocio_min_f': 32.0, 'rain_mm_str': None, 'rain_prob_porc': None, 'nubosidad_porc': 44.8, 'eto_mm': 7.3, 'eto_in': 0.29, 'radiacion_joules': 1902.2, 'radiacion_mjoules': 19.022, 'horas_frio': 0.0, 'HrsTempMenor10': 0.0, 'HrsTempMenor7_2': 0.0, 'HrsTempMenor0': 0.0, 'HrsTempMayor29': 564.0, 'U_richardson': 0.0, 'GradosDiaB10': 638.6, 'GradosDiaB4_5': 781.6, 'indice_estres': 66.0, 'fecha': '2023-08-31', 'icono': 0}, {'temp_max_c': 36.8, 'temp_min_c': 27.2, 'temp_prom_c': 33.1, 'temp_max_f': 98.2, 'temp_min_f': 81.0, 'temp_prom_f': 91.6, 'hum_max_porc': 65.6, 'hum_prom_porc': 55.3, 'hum_min_porc': 46.0, 'viento_max_kmh': 21.9, 'viento_max_mph': 13.6, 'viento_rafaga_max_kmh': 32.8, 'viento_rafaga_max_mph': 20.4, 'sensacion_max_c': 45.4, 'sensacion_min_c': None, 'sensacion_max_f': 113.7, 'sensacion_min_f': None, 'punto_rocio_max_c': 0.0, 'punto_rocio_min_c': 0.0, 'punto_rocio_max_f': 32.0, 'punto_rocio_min_f': 32.0, 'rain_mm_str': None, 'rain_prob_porc': None, 'nubosidad_porc': 19.3, 'eto_mm': 7.1, 'eto_in': 0.28, 'radiacion_joules': 2008.0, 'radiacion_mjoules': 20.08, 'horas_frio': 0.0, 'HrsTempMenor10': 0.0, 'HrsTempMenor7_2': 0.0, 'HrsTempMenor0': 0.0, 'HrsTempMayor29': 583.0, 'U_richardson': 0.0, 'GradosDiaB10': 660.6, 'GradosDiaB4_5': 809.1, 'indice_estres': 95.0, 'fecha': '2023-09-01', 'icono': 0}, {'temp_max_c': 37.5, 'temp_min_c': 28.3, 'temp_prom_c': 33.7, 'temp_max_f': 99.5, 'temp_min_f': 82.9, 'temp_prom_f': 92.7, 'hum_max_porc': 60.6, 'hum_prom_porc': 52.9, 'hum_min_porc': 48.7, 'viento_max_kmh': 18.4, 'viento_max_mph': 11.4, 'viento_rafaga_max_kmh': 27.6, 'viento_rafaga_max_mph': 17.1, 'sensacion_max_c': 46.9, 'sensacion_min_c': None, 'sensacion_max_f': 116.4, 'sensacion_min_f': None, 'punto_rocio_max_c': 0.0, 'punto_rocio_min_c': 0.0, 'punto_rocio_max_f': 32.0, 'punto_rocio_min_f': 32.0, 'rain_mm_str': None, 'rain_prob_porc': None, 'nubosidad_porc': 11.3, 'eto_mm': 6.9, 'eto_in': 0.27, 'radiacion_joules': 1897.1, 'radiacion_mjoules': 18.971, 'horas_frio': 0.0, 'HrsTempMenor10': 0.0, 'HrsTempMenor7_2': 0.0, 'HrsTempMenor0': 0.0, 'HrsTempMayor29': 604.0, 'U_richardson': 0.0, 'GradosDiaB10': 683.5, 'GradosDiaB4_5': 837.5, 'indice_estres': 107.4, 'fecha': '2023-09-02', 'icono': 0}]\n"
     ]
    },
    {
     "data": {
      "text/plain": [
       "[{'current_observation': {'precipitacion_intensidad_alta_mmh': None,\n",
       "   'precipitacion_intensidad_mmh': None,\n",
       "   'extraTemp3_c': '--',\n",
       "   'precip_today_metric': 0.0,\n",
       "   'temp_suelo_2': '--',\n",
       "   'temp_suelo_3': '--',\n",
       "   'temp_suelo_4': '--',\n",
       "   'temp_c': 29.8,\n",
       "   'extraTemp1_c': '--',\n",
       "   'horas_frio': 0.0,\n",
       "   'extraHumid2': '--',\n",
       "   'extraHumid1': '--',\n",
       "   'wind_dir_degrees': '--',\n",
       "   'precipitacion_intensidad_alta_inh': None,\n",
       "   'pressure_mb': 1011.0,\n",
       "   'extraTemp2': '--',\n",
       "   'extraTemp3': '--',\n",
       "   'wind_dir': '--',\n",
       "   'extraTemp1': '--',\n",
       "   'wind_kph': 0.0,\n",
       "   'solarradiation': 0.0,\n",
       "   'hum_suelo_4': '--',\n",
       "   'hum_suelo_3': '--',\n",
       "   'hum_suelo_2': '--',\n",
       "   'hum_suelo_1': '--',\n",
       "   'horas_frio_ef': 0,\n",
       "   'local_epoch': '1691390040',\n",
       "   'observation_time': 'Mon Aug  7 06:34:00 2023',\n",
       "   'eto_mm': 4.83,\n",
       "   'precipitacion_intensidad_inh': None,\n",
       "   'relative_humidity': '74%',\n",
       "   'radiacion_jouls_accumulated': 2146.69,\n",
       "   'dewpoint_c': 25.0,\n",
       "   'temp_suelo_1': '--',\n",
       "   'extraTemp2_c': '--',\n",
       "   'eto_in': 0.19,\n",
       "   'heat_index_c': '--',\n",
       "   'fecha_medicion': '2023-08-07T06:34:00Z',\n",
       "   'eto': 0.19,\n",
       "   'wind_gust_kph': 1.6}},\n",
       " [{'temp_max_c': 41.6,\n",
       "   'temp_min_c': 29.7,\n",
       "   'temp_prom_c': 35.1,\n",
       "   'temp_max_f': 106.9,\n",
       "   'temp_min_f': 85.5,\n",
       "   'temp_prom_f': 95.2,\n",
       "   'hum_max_porc': 68.4,\n",
       "   'hum_prom_porc': 50.4,\n",
       "   'hum_min_porc': 29.2,\n",
       "   'viento_max_kmh': 20.5,\n",
       "   'viento_max_mph': 12.7,\n",
       "   'viento_rafaga_max_kmh': 38.5,\n",
       "   'viento_rafaga_max_mph': 23.9,\n",
       "   'sensacion_max_c': 49.5,\n",
       "   'sensacion_min_c': None,\n",
       "   'sensacion_max_f': 121.1,\n",
       "   'sensacion_min_f': None,\n",
       "   'punto_rocio_max_c': 24.1,\n",
       "   'punto_rocio_min_c': 19.2,\n",
       "   'punto_rocio_max_f': 75.4,\n",
       "   'punto_rocio_min_f': 66.6,\n",
       "   'rain_mm_str': '0-5',\n",
       "   'rain_prob_porc': 25,\n",
       "   'nubosidad_porc': 40.8,\n",
       "   'eto_mm': 7.8,\n",
       "   'eto_in': 0.31,\n",
       "   'radiacion_joules': 2215.1,\n",
       "   'radiacion_mjoules': 22.151,\n",
       "   'horas_frio': 0.0,\n",
       "   'HrsTempMenor10': 0.0,\n",
       "   'HrsTempMenor7_2': 0.0,\n",
       "   'HrsTempMenor0': 0.0,\n",
       "   'HrsTempMayor29': 24.0,\n",
       "   'U_richardson': 0.0,\n",
       "   'GradosDiaB10': 25.6,\n",
       "   'GradosDiaB4_5': 31.1,\n",
       "   'indice_estres': 133.9,\n",
       "   'fecha': '2023-08-06',\n",
       "   'icono': 6},\n",
       "  {'temp_max_c': 42.5,\n",
       "   'temp_min_c': 29.0,\n",
       "   'temp_prom_c': 36.1,\n",
       "   'temp_max_f': 108.5,\n",
       "   'temp_min_f': 84.2,\n",
       "   'temp_prom_f': 97.0,\n",
       "   'hum_max_porc': 72.9,\n",
       "   'hum_prom_porc': 54.0,\n",
       "   'hum_min_porc': 35.9,\n",
       "   'viento_max_kmh': 25.0,\n",
       "   'viento_max_mph': 15.5,\n",
       "   'viento_rafaga_max_kmh': 20.5,\n",
       "   'viento_rafaga_max_mph': 12.7,\n",
       "   'sensacion_max_c': 57.2,\n",
       "   'sensacion_min_c': None,\n",
       "   'sensacion_max_f': 135.0,\n",
       "   'sensacion_min_f': None,\n",
       "   'punto_rocio_max_c': 24.5,\n",
       "   'punto_rocio_min_c': 0.0,\n",
       "   'punto_rocio_max_f': 76.1,\n",
       "   'punto_rocio_min_f': 32.0,\n",
       "   'rain_mm_str': '0-7.5',\n",
       "   'rain_prob_porc': 40,\n",
       "   'nubosidad_porc': 13.3,\n",
       "   'eto_mm': 7.6,\n",
       "   'eto_in': 0.3,\n",
       "   'radiacion_joules': 2117.4,\n",
       "   'radiacion_mjoules': 21.174,\n",
       "   'horas_frio': 0.0,\n",
       "   'HrsTempMenor10': 0.0,\n",
       "   'HrsTempMenor7_2': 0.0,\n",
       "   'HrsTempMenor0': 0.0,\n",
       "   'HrsTempMayor29': 46.0,\n",
       "   'U_richardson': 0.0,\n",
       "   'GradosDiaB10': 51.4,\n",
       "   'GradosDiaB4_5': 62.4,\n",
       "   'indice_estres': 117.9,\n",
       "   'fecha': '2023-08-07',\n",
       "   'icono': 17},\n",
       "  {'temp_max_c': 45.0,\n",
       "   'temp_min_c': 29.8,\n",
       "   'temp_prom_c': 37.2,\n",
       "   'temp_max_f': 113.0,\n",
       "   'temp_min_f': 85.6,\n",
       "   'temp_prom_f': 99.0,\n",
       "   'hum_max_porc': 60.8,\n",
       "   'hum_prom_porc': 47.3,\n",
       "   'hum_min_porc': 29.4,\n",
       "   'viento_max_kmh': 27.4,\n",
       "   'viento_max_mph': 17.0,\n",
       "   'viento_rafaga_max_kmh': 41.1,\n",
       "   'viento_rafaga_max_mph': 25.5,\n",
       "   'sensacion_max_c': 57.5,\n",
       "   'sensacion_min_c': None,\n",
       "   'sensacion_max_f': 135.5,\n",
       "   'sensacion_min_f': None,\n",
       "   'punto_rocio_max_c': 0.0,\n",
       "   'punto_rocio_min_c': 0.0,\n",
       "   'punto_rocio_max_f': 32.0,\n",
       "   'punto_rocio_min_f': 32.0,\n",
       "   'rain_mm_str': '5-15',\n",
       "   'rain_prob_porc': 45,\n",
       "   'nubosidad_porc': 0.0,\n",
       "   'eto_mm': 8.3,\n",
       "   'eto_in': 0.33,\n",
       "   'radiacion_joules': 2139.9,\n",
       "   'radiacion_mjoules': 21.399,\n",
       "   'horas_frio': 0.0,\n",
       "   'HrsTempMenor10': 0.0,\n",
       "   'HrsTempMenor7_2': 0.0,\n",
       "   'HrsTempMenor0': 0.0,\n",
       "   'HrsTempMayor29': 70.0,\n",
       "   'U_richardson': 0.0,\n",
       "   'GradosDiaB10': 78.8,\n",
       "   'GradosDiaB4_5': 95.3,\n",
       "   'indice_estres': 158.2,\n",
       "   'fecha': '2023-08-08',\n",
       "   'icono': 17},\n",
       "  {'temp_max_c': 44.1,\n",
       "   'temp_min_c': 29.9,\n",
       "   'temp_prom_c': 37.5,\n",
       "   'temp_max_f': 111.4,\n",
       "   'temp_min_f': 85.8,\n",
       "   'temp_prom_f': 99.5,\n",
       "   'hum_max_porc': 60.3,\n",
       "   'hum_prom_porc': 48.6,\n",
       "   'hum_min_porc': 42.7,\n",
       "   'viento_max_kmh': 27.5,\n",
       "   'viento_max_mph': 17.1,\n",
       "   'viento_rafaga_max_kmh': 41.3,\n",
       "   'viento_rafaga_max_mph': 25.7,\n",
       "   'sensacion_max_c': 63.9,\n",
       "   'sensacion_min_c': None,\n",
       "   'sensacion_max_f': 147.0,\n",
       "   'sensacion_min_f': None,\n",
       "   'punto_rocio_max_c': 0.0,\n",
       "   'punto_rocio_min_c': 0.0,\n",
       "   'punto_rocio_max_f': 32.0,\n",
       "   'punto_rocio_min_f': 32.0,\n",
       "   'rain_mm_str': '0-5',\n",
       "   'rain_prob_porc': 25,\n",
       "   'nubosidad_porc': 64.2,\n",
       "   'eto_mm': 7.6,\n",
       "   'eto_in': 0.3,\n",
       "   'radiacion_joules': 2253.3,\n",
       "   'radiacion_mjoules': 22.533,\n",
       "   'horas_frio': 0.0,\n",
       "   'HrsTempMenor10': 0.0,\n",
       "   'HrsTempMenor7_2': 0.0,\n",
       "   'HrsTempMenor0': 0.0,\n",
       "   'HrsTempMayor29': 94.0,\n",
       "   'U_richardson': 0.0,\n",
       "   'GradosDiaB10': 105.8,\n",
       "   'GradosDiaB4_5': 127.8,\n",
       "   'indice_estres': 148.3,\n",
       "   'fecha': '2023-08-09',\n",
       "   'icono': 6},\n",
       "  {'temp_max_c': 42.1,\n",
       "   'temp_min_c': 29.4,\n",
       "   'temp_prom_c': 36.1,\n",
       "   'temp_max_f': 107.8,\n",
       "   'temp_min_f': 84.9,\n",
       "   'temp_prom_f': 97.0,\n",
       "   'hum_max_porc': 49.5,\n",
       "   'hum_prom_porc': 39.5,\n",
       "   'hum_min_porc': 32.6,\n",
       "   'viento_max_kmh': 19.3,\n",
       "   'viento_max_mph': 12.0,\n",
       "   'viento_rafaga_max_kmh': 29.0,\n",
       "   'viento_rafaga_max_mph': 18.0,\n",
       "   'sensacion_max_c': 49.0,\n",
       "   'sensacion_min_c': None,\n",
       "   'sensacion_max_f': 120.2,\n",
       "   'sensacion_min_f': None,\n",
       "   'punto_rocio_max_c': 0.0,\n",
       "   'punto_rocio_min_c': 0.0,\n",
       "   'punto_rocio_max_f': 32.0,\n",
       "   'punto_rocio_min_f': 32.0,\n",
       "   'rain_mm_str': None,\n",
       "   'rain_prob_porc': None,\n",
       "   'nubosidad_porc': 36.4,\n",
       "   'eto_mm': 7.5,\n",
       "   'eto_in': 0.3,\n",
       "   'radiacion_joules': 2194.6,\n",
       "   'radiacion_mjoules': 21.946,\n",
       "   'horas_frio': 0.0,\n",
       "   'HrsTempMenor10': 0.0,\n",
       "   'HrsTempMenor7_2': 0.0,\n",
       "   'HrsTempMenor0': 0.0,\n",
       "   'HrsTempMayor29': 118.0,\n",
       "   'U_richardson': 0.0,\n",
       "   'GradosDiaB10': 131.6,\n",
       "   'GradosDiaB4_5': 159.1,\n",
       "   'indice_estres': 189.2,\n",
       "   'fecha': '2023-08-10',\n",
       "   'icono': 0},\n",
       "  {'temp_max_c': 42.5,\n",
       "   'temp_min_c': 28.7,\n",
       "   'temp_prom_c': 36.3,\n",
       "   'temp_max_f': 108.5,\n",
       "   'temp_min_f': 83.7,\n",
       "   'temp_prom_f': 97.3,\n",
       "   'hum_max_porc': 44.3,\n",
       "   'hum_prom_porc': 34.9,\n",
       "   'hum_min_porc': 27.9,\n",
       "   'viento_max_kmh': 21.0,\n",
       "   'viento_max_mph': 13.0,\n",
       "   'viento_rafaga_max_kmh': 31.5,\n",
       "   'viento_rafaga_max_mph': 19.6,\n",
       "   'sensacion_max_c': 47.1,\n",
       "   'sensacion_min_c': None,\n",
       "   'sensacion_max_f': 116.8,\n",
       "   'sensacion_min_f': None,\n",
       "   'punto_rocio_max_c': 0.0,\n",
       "   'punto_rocio_min_c': 0.0,\n",
       "   'punto_rocio_max_f': 32.0,\n",
       "   'punto_rocio_min_f': 32.0,\n",
       "   'rain_mm_str': None,\n",
       "   'rain_prob_porc': None,\n",
       "   'nubosidad_porc': 0.0,\n",
       "   'eto_mm': 8.0,\n",
       "   'eto_in': 0.31,\n",
       "   'radiacion_joules': 2232.6,\n",
       "   'radiacion_mjoules': 22.326,\n",
       "   'horas_frio': 0.0,\n",
       "   'HrsTempMenor10': 0.0,\n",
       "   'HrsTempMenor7_2': 0.0,\n",
       "   'HrsTempMenor0': 0.0,\n",
       "   'HrsTempMayor29': 141.0,\n",
       "   'U_richardson': 0.0,\n",
       "   'GradosDiaB10': 157.2,\n",
       "   'GradosDiaB4_5': 190.2,\n",
       "   'indice_estres': 215.5,\n",
       "   'fecha': '2023-08-11',\n",
       "   'icono': 0},\n",
       "  {'temp_max_c': 43.6,\n",
       "   'temp_min_c': 28.5,\n",
       "   'temp_prom_c': 36.4,\n",
       "   'temp_max_f': 110.5,\n",
       "   'temp_min_f': 83.3,\n",
       "   'temp_prom_f': 97.5,\n",
       "   'hum_max_porc': 60.3,\n",
       "   'hum_prom_porc': 39.5,\n",
       "   'hum_min_porc': 26.1,\n",
       "   'viento_max_kmh': 16.7,\n",
       "   'viento_max_mph': 10.4,\n",
       "   'viento_rafaga_max_kmh': 25.0,\n",
       "   'viento_rafaga_max_mph': 15.5,\n",
       "   'sensacion_max_c': 48.3,\n",
       "   'sensacion_min_c': None,\n",
       "   'sensacion_max_f': 118.9,\n",
       "   'sensacion_min_f': None,\n",
       "   'punto_rocio_max_c': 0.0,\n",
       "   'punto_rocio_min_c': 0.0,\n",
       "   'punto_rocio_max_f': 32.0,\n",
       "   'punto_rocio_min_f': 32.0,\n",
       "   'rain_mm_str': None,\n",
       "   'rain_prob_porc': None,\n",
       "   'nubosidad_porc': 21.0,\n",
       "   'eto_mm': 7.5,\n",
       "   'eto_in': 0.3,\n",
       "   'radiacion_joules': 2195.3,\n",
       "   'radiacion_mjoules': 21.953,\n",
       "   'horas_frio': 0.0,\n",
       "   'HrsTempMenor10': 0.0,\n",
       "   'HrsTempMenor7_2': 0.0,\n",
       "   'HrsTempMenor0': 0.0,\n",
       "   'HrsTempMayor29': 164.0,\n",
       "   'U_richardson': 0.0,\n",
       "   'GradosDiaB10': 183.2,\n",
       "   'GradosDiaB4_5': 221.7,\n",
       "   'indice_estres': 197.5,\n",
       "   'fecha': '2023-08-12',\n",
       "   'icono': 0},\n",
       "  {'temp_max_c': 44.6,\n",
       "   'temp_min_c': 29.2,\n",
       "   'temp_prom_c': 37.2,\n",
       "   'temp_max_f': 112.3,\n",
       "   'temp_min_f': 84.6,\n",
       "   'temp_prom_f': 99.0,\n",
       "   'hum_max_porc': 32.8,\n",
       "   'hum_prom_porc': 26.8,\n",
       "   'hum_min_porc': 21.7,\n",
       "   'viento_max_kmh': 17.1,\n",
       "   'viento_max_mph': 10.6,\n",
       "   'viento_rafaga_max_kmh': 25.7,\n",
       "   'viento_rafaga_max_mph': 16.0,\n",
       "   'sensacion_max_c': 47.5,\n",
       "   'sensacion_min_c': None,\n",
       "   'sensacion_max_f': 117.5,\n",
       "   'sensacion_min_f': None,\n",
       "   'punto_rocio_max_c': 0.0,\n",
       "   'punto_rocio_min_c': 0.0,\n",
       "   'punto_rocio_max_f': 32.0,\n",
       "   'punto_rocio_min_f': 32.0,\n",
       "   'rain_mm_str': None,\n",
       "   'rain_prob_porc': None,\n",
       "   'nubosidad_porc': 23.3,\n",
       "   'eto_mm': 7.3,\n",
       "   'eto_in': 0.29,\n",
       "   'radiacion_joules': 2178.0,\n",
       "   'radiacion_mjoules': 21.78,\n",
       "   'horas_frio': 0.0,\n",
       "   'HrsTempMenor10': 0.0,\n",
       "   'HrsTempMenor7_2': 0.0,\n",
       "   'HrsTempMenor0': 0.0,\n",
       "   'HrsTempMayor29': 188.0,\n",
       "   'U_richardson': 0.0,\n",
       "   'GradosDiaB10': 210.1,\n",
       "   'GradosDiaB4_5': 254.1,\n",
       "   'indice_estres': 265.4,\n",
       "   'fecha': '2023-08-13',\n",
       "   'icono': 0},\n",
       "  {'temp_max_c': 39.8,\n",
       "   'temp_min_c': 29.3,\n",
       "   'temp_prom_c': 34.8,\n",
       "   'temp_max_f': 103.6,\n",
       "   'temp_min_f': 84.7,\n",
       "   'temp_prom_f': 94.6,\n",
       "   'hum_max_porc': 49.4,\n",
       "   'hum_prom_porc': 36.3,\n",
       "   'hum_min_porc': 28.5,\n",
       "   'viento_max_kmh': 19.6,\n",
       "   'viento_max_mph': 12.2,\n",
       "   'viento_rafaga_max_kmh': 29.4,\n",
       "   'viento_rafaga_max_mph': 18.3,\n",
       "   'sensacion_max_c': 43.8,\n",
       "   'sensacion_min_c': None,\n",
       "   'sensacion_max_f': 110.8,\n",
       "   'sensacion_min_f': None,\n",
       "   'punto_rocio_max_c': 0.0,\n",
       "   'punto_rocio_min_c': 0.0,\n",
       "   'punto_rocio_max_f': 32.0,\n",
       "   'punto_rocio_min_f': 32.0,\n",
       "   'rain_mm_str': None,\n",
       "   'rain_prob_porc': None,\n",
       "   'nubosidad_porc': 32.2,\n",
       "   'eto_mm': 8.1,\n",
       "   'eto_in': 0.32,\n",
       "   'radiacion_joules': 2128.6,\n",
       "   'radiacion_mjoules': 21.286,\n",
       "   'horas_frio': 0.0,\n",
       "   'HrsTempMenor10': 0.0,\n",
       "   'HrsTempMenor7_2': 0.0,\n",
       "   'HrsTempMenor0': 0.0,\n",
       "   'HrsTempMayor29': 212.0,\n",
       "   'U_richardson': 0.0,\n",
       "   'GradosDiaB10': 234.6,\n",
       "   'GradosDiaB4_5': 284.1,\n",
       "   'indice_estres': 193.8,\n",
       "   'fecha': '2023-08-14',\n",
       "   'icono': 0},\n",
       "  {'temp_max_c': 39.4,\n",
       "   'temp_min_c': 27.0,\n",
       "   'temp_prom_c': 33.4,\n",
       "   'temp_max_f': 102.9,\n",
       "   'temp_min_f': 80.6,\n",
       "   'temp_prom_f': 92.1,\n",
       "   'hum_max_porc': 57.3,\n",
       "   'hum_prom_porc': 46.8,\n",
       "   'hum_min_porc': 42.7,\n",
       "   'viento_max_kmh': 32.9,\n",
       "   'viento_max_mph': 20.4,\n",
       "   'viento_rafaga_max_kmh': 49.3,\n",
       "   'viento_rafaga_max_mph': 30.6,\n",
       "   'sensacion_max_c': 48.8,\n",
       "   'sensacion_min_c': None,\n",
       "   'sensacion_max_f': 119.8,\n",
       "   'sensacion_min_f': None,\n",
       "   'punto_rocio_max_c': 0.0,\n",
       "   'punto_rocio_min_c': 0.0,\n",
       "   'punto_rocio_max_f': 32.0,\n",
       "   'punto_rocio_min_f': 32.0,\n",
       "   'rain_mm_str': None,\n",
       "   'rain_prob_porc': None,\n",
       "   'nubosidad_porc': 67.7,\n",
       "   'eto_mm': 8.3,\n",
       "   'eto_in': 0.33,\n",
       "   'radiacion_joules': 2004.2,\n",
       "   'radiacion_mjoules': 20.042,\n",
       "   'horas_frio': 0.0,\n",
       "   'HrsTempMenor10': 0.0,\n",
       "   'HrsTempMenor7_2': 0.0,\n",
       "   'HrsTempMenor0': 0.0,\n",
       "   'HrsTempMayor29': 232.0,\n",
       "   'U_richardson': 0.0,\n",
       "   'GradosDiaB10': 257.8,\n",
       "   'GradosDiaB4_5': 312.8,\n",
       "   'indice_estres': 133.0,\n",
       "   'fecha': '2023-08-15',\n",
       "   'icono': 0},\n",
       "  {'temp_max_c': 39.2,\n",
       "   'temp_min_c': 26.1,\n",
       "   'temp_prom_c': 33.3,\n",
       "   'temp_max_f': 102.6,\n",
       "   'temp_min_f': 79.0,\n",
       "   'temp_prom_f': 91.9,\n",
       "   'hum_max_porc': 61.1,\n",
       "   'hum_prom_porc': 44.2,\n",
       "   'hum_min_porc': 32.9,\n",
       "   'viento_max_kmh': 28.2,\n",
       "   'viento_max_mph': 17.5,\n",
       "   'viento_rafaga_max_kmh': 42.3,\n",
       "   'viento_rafaga_max_mph': 26.3,\n",
       "   'sensacion_max_c': 42.8,\n",
       "   'sensacion_min_c': None,\n",
       "   'sensacion_max_f': 109.0,\n",
       "   'sensacion_min_f': None,\n",
       "   'punto_rocio_max_c': 0.0,\n",
       "   'punto_rocio_min_c': 0.0,\n",
       "   'punto_rocio_max_f': 32.0,\n",
       "   'punto_rocio_min_f': 32.0,\n",
       "   'rain_mm_str': None,\n",
       "   'rain_prob_porc': None,\n",
       "   'nubosidad_porc': 51.1,\n",
       "   'eto_mm': 6.9,\n",
       "   'eto_in': 0.27,\n",
       "   'radiacion_joules': 1994.1,\n",
       "   'radiacion_mjoules': 19.941,\n",
       "   'horas_frio': 0.0,\n",
       "   'HrsTempMenor10': 0.0,\n",
       "   'HrsTempMenor7_2': 0.0,\n",
       "   'HrsTempMenor0': 0.0,\n",
       "   'HrsTempMayor29': 250.0,\n",
       "   'U_richardson': 0.0,\n",
       "   'GradosDiaB10': 280.5,\n",
       "   'GradosDiaB4_5': 341.0,\n",
       "   'indice_estres': 151.8,\n",
       "   'fecha': '2023-08-16',\n",
       "   'icono': 0},\n",
       "  {'temp_max_c': 43.8,\n",
       "   'temp_min_c': 29.3,\n",
       "   'temp_prom_c': 36.6,\n",
       "   'temp_max_f': 110.8,\n",
       "   'temp_min_f': 84.7,\n",
       "   'temp_prom_f': 97.9,\n",
       "   'hum_max_porc': 46.8,\n",
       "   'hum_prom_porc': 36.4,\n",
       "   'hum_min_porc': 28.5,\n",
       "   'viento_max_kmh': 27.5,\n",
       "   'viento_max_mph': 17.1,\n",
       "   'viento_rafaga_max_kmh': 41.3,\n",
       "   'viento_rafaga_max_mph': 25.7,\n",
       "   'sensacion_max_c': 50.2,\n",
       "   'sensacion_min_c': None,\n",
       "   'sensacion_max_f': 122.4,\n",
       "   'sensacion_min_f': None,\n",
       "   'punto_rocio_max_c': 0.0,\n",
       "   'punto_rocio_min_c': 0.0,\n",
       "   'punto_rocio_max_f': 32.0,\n",
       "   'punto_rocio_min_f': 32.0,\n",
       "   'rain_mm_str': None,\n",
       "   'rain_prob_porc': None,\n",
       "   'nubosidad_porc': 30.0,\n",
       "   'eto_mm': 8.7,\n",
       "   'eto_in': 0.34,\n",
       "   'radiacion_joules': 1835.1,\n",
       "   'radiacion_mjoules': 18.351,\n",
       "   'horas_frio': 0.0,\n",
       "   'HrsTempMenor10': 0.0,\n",
       "   'HrsTempMenor7_2': 0.0,\n",
       "   'HrsTempMenor0': 0.0,\n",
       "   'HrsTempMayor29': 274.0,\n",
       "   'U_richardson': 0.0,\n",
       "   'GradosDiaB10': 307.0,\n",
       "   'GradosDiaB4_5': 373.0,\n",
       "   'indice_estres': 211.3,\n",
       "   'fecha': '2023-08-17',\n",
       "   'icono': 0},\n",
       "  {'temp_max_c': 42.1,\n",
       "   'temp_min_c': 29.1,\n",
       "   'temp_prom_c': 35.2,\n",
       "   'temp_max_f': 107.8,\n",
       "   'temp_min_f': 84.4,\n",
       "   'temp_prom_f': 95.4,\n",
       "   'hum_max_porc': 42.6,\n",
       "   'hum_prom_porc': 36.1,\n",
       "   'hum_min_porc': 30.5,\n",
       "   'viento_max_kmh': 20.6,\n",
       "   'viento_max_mph': 12.8,\n",
       "   'viento_rafaga_max_kmh': 30.9,\n",
       "   'viento_rafaga_max_mph': 19.2,\n",
       "   'sensacion_max_c': 47.7,\n",
       "   'sensacion_min_c': None,\n",
       "   'sensacion_max_f': 117.9,\n",
       "   'sensacion_min_f': None,\n",
       "   'punto_rocio_max_c': 0.0,\n",
       "   'punto_rocio_min_c': 0.0,\n",
       "   'punto_rocio_max_f': 32.0,\n",
       "   'punto_rocio_min_f': 32.0,\n",
       "   'rain_mm_str': None,\n",
       "   'rain_prob_porc': None,\n",
       "   'nubosidad_porc': 11.5,\n",
       "   'eto_mm': 7.1,\n",
       "   'eto_in': 0.28,\n",
       "   'radiacion_joules': 2144.2,\n",
       "   'radiacion_mjoules': 21.442,\n",
       "   'horas_frio': 0.0,\n",
       "   'HrsTempMenor10': 0.0,\n",
       "   'HrsTempMenor7_2': 0.0,\n",
       "   'HrsTempMenor0': 0.0,\n",
       "   'HrsTempMayor29': 298.0,\n",
       "   'U_richardson': 0.0,\n",
       "   'GradosDiaB10': 332.6,\n",
       "   'GradosDiaB4_5': 404.1,\n",
       "   'indice_estres': 199.0,\n",
       "   'fecha': '2023-08-18',\n",
       "   'icono': 0},\n",
       "  {'temp_max_c': 37.7,\n",
       "   'temp_min_c': 27.5,\n",
       "   'temp_prom_c': 33.3,\n",
       "   'temp_max_f': 99.9,\n",
       "   'temp_min_f': 81.5,\n",
       "   'temp_prom_f': 91.9,\n",
       "   'hum_max_porc': 72.0,\n",
       "   'hum_prom_porc': 54.5,\n",
       "   'hum_min_porc': 43.2,\n",
       "   'viento_max_kmh': 22.0,\n",
       "   'viento_max_mph': 13.7,\n",
       "   'viento_rafaga_max_kmh': 33.0,\n",
       "   'viento_rafaga_max_mph': 20.5,\n",
       "   'sensacion_max_c': 45.3,\n",
       "   'sensacion_min_c': None,\n",
       "   'sensacion_max_f': 113.5,\n",
       "   'sensacion_min_f': None,\n",
       "   'punto_rocio_max_c': 0.0,\n",
       "   'punto_rocio_min_c': 0.0,\n",
       "   'punto_rocio_max_f': 32.0,\n",
       "   'punto_rocio_min_f': 32.0,\n",
       "   'rain_mm_str': None,\n",
       "   'rain_prob_porc': None,\n",
       "   'nubosidad_porc': 11.0,\n",
       "   'eto_mm': 7.6,\n",
       "   'eto_in': 0.3,\n",
       "   'radiacion_joules': 2126.2,\n",
       "   'radiacion_mjoules': 21.262,\n",
       "   'horas_frio': 0.0,\n",
       "   'HrsTempMenor10': 0.0,\n",
       "   'HrsTempMenor7_2': 0.0,\n",
       "   'HrsTempMenor0': 0.0,\n",
       "   'HrsTempMayor29': 319.0,\n",
       "   'U_richardson': 0.0,\n",
       "   'GradosDiaB10': 355.2,\n",
       "   'GradosDiaB4_5': 432.2,\n",
       "   'indice_estres': 100.0,\n",
       "   'fecha': '2023-08-19',\n",
       "   'icono': 0},\n",
       "  {'temp_max_c': 38.3,\n",
       "   'temp_min_c': 25.4,\n",
       "   'temp_prom_c': 32.3,\n",
       "   'temp_max_f': 100.9,\n",
       "   'temp_min_f': 77.7,\n",
       "   'temp_prom_f': 90.1,\n",
       "   'hum_max_porc': 61.0,\n",
       "   'hum_prom_porc': 49.1,\n",
       "   'hum_min_porc': 41.0,\n",
       "   'viento_max_kmh': 24.8,\n",
       "   'viento_max_mph': 15.4,\n",
       "   'viento_rafaga_max_kmh': 37.2,\n",
       "   'viento_rafaga_max_mph': 23.1,\n",
       "   'sensacion_max_c': 46.1,\n",
       "   'sensacion_min_c': None,\n",
       "   'sensacion_max_f': 115.0,\n",
       "   'sensacion_min_f': None,\n",
       "   'punto_rocio_max_c': 0.0,\n",
       "   'punto_rocio_min_c': 0.0,\n",
       "   'punto_rocio_max_f': 32.0,\n",
       "   'punto_rocio_min_f': 32.0,\n",
       "   'rain_mm_str': None,\n",
       "   'rain_prob_porc': None,\n",
       "   'nubosidad_porc': 33.5,\n",
       "   'eto_mm': 7.6,\n",
       "   'eto_in': 0.3,\n",
       "   'radiacion_joules': 2126.2,\n",
       "   'radiacion_mjoules': 21.262,\n",
       "   'horas_frio': 0.0,\n",
       "   'HrsTempMenor10': 0.0,\n",
       "   'HrsTempMenor7_2': 0.0,\n",
       "   'HrsTempMenor0': 0.0,\n",
       "   'HrsTempMayor29': 336.0,\n",
       "   'U_richardson': 0.0,\n",
       "   'GradosDiaB10': 377.0,\n",
       "   'GradosDiaB4_5': 459.5,\n",
       "   'indice_estres': 118.8,\n",
       "   'fecha': '2023-08-20',\n",
       "   'icono': 0},\n",
       "  {'temp_max_c': 37.5,\n",
       "   'temp_min_c': 26.3,\n",
       "   'temp_prom_c': 33.0,\n",
       "   'temp_max_f': 99.5,\n",
       "   'temp_min_f': 79.3,\n",
       "   'temp_prom_f': 91.4,\n",
       "   'hum_max_porc': 60.4,\n",
       "   'hum_prom_porc': 53.9,\n",
       "   'hum_min_porc': 43.2,\n",
       "   'viento_max_kmh': 23.0,\n",
       "   'viento_max_mph': 14.3,\n",
       "   'viento_rafaga_max_kmh': 34.5,\n",
       "   'viento_rafaga_max_mph': 21.4,\n",
       "   'sensacion_max_c': 46.2,\n",
       "   'sensacion_min_c': None,\n",
       "   'sensacion_max_f': 115.2,\n",
       "   'sensacion_min_f': None,\n",
       "   'punto_rocio_max_c': 0.0,\n",
       "   'punto_rocio_min_c': 0.0,\n",
       "   'punto_rocio_max_f': 32.0,\n",
       "   'punto_rocio_min_f': 32.0,\n",
       "   'rain_mm_str': None,\n",
       "   'rain_prob_porc': None,\n",
       "   'nubosidad_porc': 70.5,\n",
       "   'eto_mm': 5.8,\n",
       "   'eto_in': 0.23,\n",
       "   'radiacion_joules': 1549.2,\n",
       "   'radiacion_mjoules': 15.492,\n",
       "   'horas_frio': 0.0,\n",
       "   'HrsTempMenor10': 0.0,\n",
       "   'HrsTempMenor7_2': 0.0,\n",
       "   'HrsTempMenor0': 0.0,\n",
       "   'HrsTempMayor29': 355.0,\n",
       "   'U_richardson': 0.0,\n",
       "   'GradosDiaB10': 398.9,\n",
       "   'GradosDiaB4_5': 486.9,\n",
       "   'indice_estres': 99.3,\n",
       "   'fecha': '2023-08-21',\n",
       "   'icono': 0},\n",
       "  {'temp_max_c': 39.0,\n",
       "   'temp_min_c': 27.8,\n",
       "   'temp_prom_c': 33.7,\n",
       "   'temp_max_f': 102.2,\n",
       "   'temp_min_f': 82.0,\n",
       "   'temp_prom_f': 92.7,\n",
       "   'hum_max_porc': 60.6,\n",
       "   'hum_prom_porc': 49.5,\n",
       "   'hum_min_porc': 41.2,\n",
       "   'viento_max_kmh': 17.3,\n",
       "   'viento_max_mph': 10.7,\n",
       "   'viento_rafaga_max_kmh': 26.0,\n",
       "   'viento_rafaga_max_mph': 16.2,\n",
       "   'sensacion_max_c': 46.4,\n",
       "   'sensacion_min_c': None,\n",
       "   'sensacion_max_f': 115.5,\n",
       "   'sensacion_min_f': None,\n",
       "   'punto_rocio_max_c': 0.0,\n",
       "   'punto_rocio_min_c': 0.0,\n",
       "   'punto_rocio_max_f': 32.0,\n",
       "   'punto_rocio_min_f': 32.0,\n",
       "   'rain_mm_str': None,\n",
       "   'rain_prob_porc': None,\n",
       "   'nubosidad_porc': 12.6,\n",
       "   'eto_mm': 6.7,\n",
       "   'eto_in': 0.26,\n",
       "   'radiacion_joules': 2090.5,\n",
       "   'radiacion_mjoules': 20.905,\n",
       "   'horas_frio': 0.0,\n",
       "   'HrsTempMenor10': 0.0,\n",
       "   'HrsTempMenor7_2': 0.0,\n",
       "   'HrsTempMenor0': 0.0,\n",
       "   'HrsTempMayor29': 374.0,\n",
       "   'U_richardson': 0.0,\n",
       "   'GradosDiaB10': 422.3,\n",
       "   'GradosDiaB4_5': 515.8,\n",
       "   'indice_estres': 126.1,\n",
       "   'fecha': '2023-08-22',\n",
       "   'icono': 0},\n",
       "  {'temp_max_c': 38.0,\n",
       "   'temp_min_c': 27.9,\n",
       "   'temp_prom_c': 33.9,\n",
       "   'temp_max_f': 100.4,\n",
       "   'temp_min_f': 82.2,\n",
       "   'temp_prom_f': 93.0,\n",
       "   'hum_max_porc': 71.1,\n",
       "   'hum_prom_porc': 55.4,\n",
       "   'hum_min_porc': 46.4,\n",
       "   'viento_max_kmh': 22.5,\n",
       "   'viento_max_mph': 14.0,\n",
       "   'viento_rafaga_max_kmh': 33.8,\n",
       "   'viento_rafaga_max_mph': 21.0,\n",
       "   'sensacion_max_c': 48.4,\n",
       "   'sensacion_min_c': None,\n",
       "   'sensacion_max_f': 119.1,\n",
       "   'sensacion_min_f': None,\n",
       "   'punto_rocio_max_c': 0.0,\n",
       "   'punto_rocio_min_c': 0.0,\n",
       "   'punto_rocio_max_f': 32.0,\n",
       "   'punto_rocio_min_f': 32.0,\n",
       "   'rain_mm_str': None,\n",
       "   'rain_prob_porc': None,\n",
       "   'nubosidad_porc': 32.0,\n",
       "   'eto_mm': 6.9,\n",
       "   'eto_in': 0.27,\n",
       "   'radiacion_joules': 1937.5,\n",
       "   'radiacion_mjoules': 19.375,\n",
       "   'horas_frio': 0.0,\n",
       "   'HrsTempMenor10': 0.0,\n",
       "   'HrsTempMenor7_2': 0.0,\n",
       "   'HrsTempMenor0': 0.0,\n",
       "   'HrsTempMayor29': 397.0,\n",
       "   'U_richardson': 0.0,\n",
       "   'GradosDiaB10': 445.3,\n",
       "   'GradosDiaB4_5': 544.3,\n",
       "   'indice_estres': 97.5,\n",
       "   'fecha': '2023-08-23',\n",
       "   'icono': 0},\n",
       "  {'temp_max_c': 37.0,\n",
       "   'temp_min_c': 26.5,\n",
       "   'temp_prom_c': 32.2,\n",
       "   'temp_max_f': 98.6,\n",
       "   'temp_min_f': 79.7,\n",
       "   'temp_prom_f': 90.0,\n",
       "   'hum_max_porc': 70.4,\n",
       "   'hum_prom_porc': 55.7,\n",
       "   'hum_min_porc': 45.4,\n",
       "   'viento_max_kmh': 20.0,\n",
       "   'viento_max_mph': 12.4,\n",
       "   'viento_rafaga_max_kmh': 30.0,\n",
       "   'viento_rafaga_max_mph': 18.6,\n",
       "   'sensacion_max_c': 44.0,\n",
       "   'sensacion_min_c': None,\n",
       "   'sensacion_max_f': 111.2,\n",
       "   'sensacion_min_f': None,\n",
       "   'punto_rocio_max_c': 0.0,\n",
       "   'punto_rocio_min_c': 0.0,\n",
       "   'punto_rocio_max_f': 32.0,\n",
       "   'punto_rocio_min_f': 32.0,\n",
       "   'rain_mm_str': None,\n",
       "   'rain_prob_porc': None,\n",
       "   'nubosidad_porc': 18.9,\n",
       "   'eto_mm': 6.8,\n",
       "   'eto_in': 0.27,\n",
       "   'radiacion_joules': 1889.5,\n",
       "   'radiacion_mjoules': 18.895,\n",
       "   'horas_frio': 0.0,\n",
       "   'HrsTempMenor10': 0.0,\n",
       "   'HrsTempMenor7_2': 0.0,\n",
       "   'HrsTempMenor0': 0.0,\n",
       "   'HrsTempMayor29': 414.0,\n",
       "   'U_richardson': 0.0,\n",
       "   'GradosDiaB10': 467.1,\n",
       "   'GradosDiaB4_5': 571.6,\n",
       "   'indice_estres': 92.0,\n",
       "   'fecha': '2023-08-24',\n",
       "   'icono': 0},\n",
       "  {'temp_max_c': 38.0,\n",
       "   'temp_min_c': 26.8,\n",
       "   'temp_prom_c': 31.8,\n",
       "   'temp_max_f': 100.4,\n",
       "   'temp_min_f': 80.2,\n",
       "   'temp_prom_f': 89.2,\n",
       "   'hum_max_porc': 62.0,\n",
       "   'hum_prom_porc': 49.4,\n",
       "   'hum_min_porc': 37.8,\n",
       "   'viento_max_kmh': 13.1,\n",
       "   'viento_max_mph': 8.1,\n",
       "   'viento_rafaga_max_kmh': 19.6,\n",
       "   'viento_rafaga_max_mph': 12.2,\n",
       "   'sensacion_max_c': 42.4,\n",
       "   'sensacion_min_c': None,\n",
       "   'sensacion_max_f': 108.3,\n",
       "   'sensacion_min_f': None,\n",
       "   'punto_rocio_max_c': 0.0,\n",
       "   'punto_rocio_min_c': 0.0,\n",
       "   'punto_rocio_max_f': 32.0,\n",
       "   'punto_rocio_min_f': 32.0,\n",
       "   'rain_mm_str': None,\n",
       "   'rain_prob_porc': None,\n",
       "   'nubosidad_porc': 34.4,\n",
       "   'eto_mm': 6.2,\n",
       "   'eto_in': 0.24,\n",
       "   'radiacion_joules': 1990.6,\n",
       "   'radiacion_mjoules': 19.906,\n",
       "   'horas_frio': 0.0,\n",
       "   'HrsTempMenor10': 0.0,\n",
       "   'HrsTempMenor7_2': 0.0,\n",
       "   'HrsTempMenor0': 0.0,\n",
       "   'HrsTempMayor29': 430.0,\n",
       "   'U_richardson': 0.0,\n",
       "   'GradosDiaB10': 489.5,\n",
       "   'GradosDiaB4_5': 599.5,\n",
       "   'indice_estres': 117.5,\n",
       "   'fecha': '2023-08-25',\n",
       "   'icono': 0},\n",
       "  {'temp_max_c': 40.0,\n",
       "   'temp_min_c': 28.0,\n",
       "   'temp_prom_c': 34.3,\n",
       "   'temp_max_f': 104.0,\n",
       "   'temp_min_f': 82.4,\n",
       "   'temp_prom_f': 93.7,\n",
       "   'hum_max_porc': 52.6,\n",
       "   'hum_prom_porc': 43.3,\n",
       "   'hum_min_porc': 35.1,\n",
       "   'viento_max_kmh': 17.8,\n",
       "   'viento_max_mph': 11.1,\n",
       "   'viento_rafaga_max_kmh': 26.7,\n",
       "   'viento_rafaga_max_mph': 16.6,\n",
       "   'sensacion_max_c': 45.6,\n",
       "   'sensacion_min_c': None,\n",
       "   'sensacion_max_f': 114.1,\n",
       "   'sensacion_min_f': None,\n",
       "   'punto_rocio_max_c': 0.0,\n",
       "   'punto_rocio_min_c': 0.0,\n",
       "   'punto_rocio_max_f': 32.0,\n",
       "   'punto_rocio_min_f': 32.0,\n",
       "   'rain_mm_str': None,\n",
       "   'rain_prob_porc': None,\n",
       "   'nubosidad_porc': 12.3,\n",
       "   'eto_mm': 6.2,\n",
       "   'eto_in': 0.24,\n",
       "   'radiacion_joules': 1944.3,\n",
       "   'radiacion_mjoules': 19.443,\n",
       "   'horas_frio': 0.0,\n",
       "   'HrsTempMenor10': 0.0,\n",
       "   'HrsTempMenor7_2': 0.0,\n",
       "   'HrsTempMenor0': 0.0,\n",
       "   'HrsTempMayor29': 452.0,\n",
       "   'U_richardson': 0.0,\n",
       "   'GradosDiaB10': 513.5,\n",
       "   'GradosDiaB4_5': 629.0,\n",
       "   'indice_estres': 158.0,\n",
       "   'fecha': '2023-08-26',\n",
       "   'icono': 0},\n",
       "  {'temp_max_c': 40.9,\n",
       "   'temp_min_c': 29.4,\n",
       "   'temp_prom_c': 35.4,\n",
       "   'temp_max_f': 105.6,\n",
       "   'temp_min_f': 84.9,\n",
       "   'temp_prom_f': 95.7,\n",
       "   'hum_max_porc': 50.3,\n",
       "   'hum_prom_porc': 38.8,\n",
       "   'hum_min_porc': 30.0,\n",
       "   'viento_max_kmh': 13.8,\n",
       "   'viento_max_mph': 8.6,\n",
       "   'viento_rafaga_max_kmh': 20.7,\n",
       "   'viento_rafaga_max_mph': 12.9,\n",
       "   'sensacion_max_c': 44.9,\n",
       "   'sensacion_min_c': None,\n",
       "   'sensacion_max_f': 112.8,\n",
       "   'sensacion_min_f': None,\n",
       "   'punto_rocio_max_c': 0.0,\n",
       "   'punto_rocio_min_c': 0.0,\n",
       "   'punto_rocio_max_f': 32.0,\n",
       "   'punto_rocio_min_f': 32.0,\n",
       "   'rain_mm_str': None,\n",
       "   'rain_prob_porc': None,\n",
       "   'nubosidad_porc': 17.4,\n",
       "   'eto_mm': 5.9,\n",
       "   'eto_in': 0.23,\n",
       "   'radiacion_joules': 1834.7,\n",
       "   'radiacion_mjoules': 18.347,\n",
       "   'horas_frio': 0.0,\n",
       "   'HrsTempMenor10': 0.0,\n",
       "   'HrsTempMenor7_2': 0.0,\n",
       "   'HrsTempMenor0': 0.0,\n",
       "   'HrsTempMayor29': 476.0,\n",
       "   'U_richardson': 0.0,\n",
       "   'GradosDiaB10': 538.6,\n",
       "   'GradosDiaB4_5': 659.6,\n",
       "   'indice_estres': 188.9,\n",
       "   'fecha': '2023-08-27',\n",
       "   'icono': 0},\n",
       "  {'temp_max_c': 42.7,\n",
       "   'temp_min_c': 30.1,\n",
       "   'temp_prom_c': 36.3,\n",
       "   'temp_max_f': 108.9,\n",
       "   'temp_min_f': 86.2,\n",
       "   'temp_prom_f': 97.3,\n",
       "   'hum_max_porc': 47.7,\n",
       "   'hum_prom_porc': 34.5,\n",
       "   'hum_min_porc': 23.0,\n",
       "   'viento_max_kmh': 11.2,\n",
       "   'viento_max_mph': 7.0,\n",
       "   'viento_rafaga_max_kmh': 16.8,\n",
       "   'viento_rafaga_max_mph': 10.4,\n",
       "   'sensacion_max_c': 44.9,\n",
       "   'sensacion_min_c': None,\n",
       "   'sensacion_max_f': 112.8,\n",
       "   'sensacion_min_f': None,\n",
       "   'punto_rocio_max_c': 0.0,\n",
       "   'punto_rocio_min_c': 0.0,\n",
       "   'punto_rocio_max_f': 32.0,\n",
       "   'punto_rocio_min_f': 32.0,\n",
       "   'rain_mm_str': None,\n",
       "   'rain_prob_porc': None,\n",
       "   'nubosidad_porc': 3.3,\n",
       "   'eto_mm': 6.5,\n",
       "   'eto_in': 0.26,\n",
       "   'radiacion_joules': 2073.6,\n",
       "   'radiacion_mjoules': 20.736,\n",
       "   'horas_frio': 0.0,\n",
       "   'HrsTempMenor10': 0.0,\n",
       "   'HrsTempMenor7_2': 0.0,\n",
       "   'HrsTempMenor0': 0.0,\n",
       "   'HrsTempMayor29': 500.0,\n",
       "   'U_richardson': 0.0,\n",
       "   'GradosDiaB10': 565.0,\n",
       "   'GradosDiaB4_5': 691.5,\n",
       "   'indice_estres': 218.6,\n",
       "   'fecha': '2023-08-28',\n",
       "   'icono': 0},\n",
       "  {'temp_max_c': 44.2,\n",
       "   'temp_min_c': 31.2,\n",
       "   'temp_prom_c': 37.3,\n",
       "   'temp_max_f': 111.6,\n",
       "   'temp_min_f': 88.2,\n",
       "   'temp_prom_f': 99.1,\n",
       "   'hum_max_porc': 42.1,\n",
       "   'hum_prom_porc': 30.7,\n",
       "   'hum_min_porc': 20.5,\n",
       "   'viento_max_kmh': 17.0,\n",
       "   'viento_max_mph': 10.6,\n",
       "   'viento_rafaga_max_kmh': 25.5,\n",
       "   'viento_rafaga_max_mph': 15.8,\n",
       "   'sensacion_max_c': 46.1,\n",
       "   'sensacion_min_c': None,\n",
       "   'sensacion_max_f': 115.0,\n",
       "   'sensacion_min_f': None,\n",
       "   'punto_rocio_max_c': 0.0,\n",
       "   'punto_rocio_min_c': 0.0,\n",
       "   'punto_rocio_max_f': 32.0,\n",
       "   'punto_rocio_min_f': 32.0,\n",
       "   'rain_mm_str': None,\n",
       "   'rain_prob_porc': None,\n",
       "   'nubosidad_porc': 0.0,\n",
       "   'eto_mm': 7.1,\n",
       "   'eto_in': 0.28,\n",
       "   'radiacion_joules': 2100.3,\n",
       "   'radiacion_mjoules': 21.003,\n",
       "   'horas_frio': 0.0,\n",
       "   'HrsTempMenor10': 0.0,\n",
       "   'HrsTempMenor7_2': 0.0,\n",
       "   'HrsTempMenor0': 0.0,\n",
       "   'HrsTempMayor29': 524.0,\n",
       "   'U_richardson': 0.0,\n",
       "   'GradosDiaB10': 592.7,\n",
       "   'GradosDiaB4_5': 724.7,\n",
       "   'indice_estres': 247.4,\n",
       "   'fecha': '2023-08-29',\n",
       "   'icono': 0},\n",
       "  {'temp_max_c': 39.9,\n",
       "   'temp_min_c': 28.3,\n",
       "   'temp_prom_c': 35.3,\n",
       "   'temp_max_f': 103.8,\n",
       "   'temp_min_f': 82.9,\n",
       "   'temp_prom_f': 95.5,\n",
       "   'hum_max_porc': 71.7,\n",
       "   'hum_prom_porc': 46.3,\n",
       "   'hum_min_porc': 33.1,\n",
       "   'viento_max_kmh': 32.2,\n",
       "   'viento_max_mph': 20.0,\n",
       "   'viento_rafaga_max_kmh': 48.3,\n",
       "   'viento_rafaga_max_mph': 30.0,\n",
       "   'sensacion_max_c': 46.1,\n",
       "   'sensacion_min_c': None,\n",
       "   'sensacion_max_f': 115.0,\n",
       "   'sensacion_min_f': None,\n",
       "   'punto_rocio_max_c': 0.0,\n",
       "   'punto_rocio_min_c': 0.0,\n",
       "   'punto_rocio_max_f': 32.0,\n",
       "   'punto_rocio_min_f': 32.0,\n",
       "   'rain_mm_str': None,\n",
       "   'rain_prob_porc': None,\n",
       "   'nubosidad_porc': 3.4,\n",
       "   'eto_mm': 8.2,\n",
       "   'eto_in': 0.32,\n",
       "   'radiacion_joules': 2066.4,\n",
       "   'radiacion_mjoules': 20.664,\n",
       "   'horas_frio': 0.0,\n",
       "   'HrsTempMenor10': 0.0,\n",
       "   'HrsTempMenor7_2': 0.0,\n",
       "   'HrsTempMenor0': 0.0,\n",
       "   'HrsTempMayor29': 547.0,\n",
       "   'U_richardson': 0.0,\n",
       "   'GradosDiaB10': 616.8,\n",
       "   'GradosDiaB4_5': 754.3,\n",
       "   'indice_estres': 150.9,\n",
       "   'fecha': '2023-08-30',\n",
       "   'icono': 0},\n",
       "  {'temp_max_c': 36.3,\n",
       "   'temp_min_c': 27.4,\n",
       "   'temp_prom_c': 32.3,\n",
       "   'temp_max_f': 97.3,\n",
       "   'temp_min_f': 81.3,\n",
       "   'temp_prom_f': 90.1,\n",
       "   'hum_max_porc': 71.5,\n",
       "   'hum_prom_porc': 61.2,\n",
       "   'hum_min_porc': 53.4,\n",
       "   'viento_max_kmh': 31.0,\n",
       "   'viento_max_mph': 19.3,\n",
       "   'viento_rafaga_max_kmh': 46.5,\n",
       "   'viento_rafaga_max_mph': 28.9,\n",
       "   'sensacion_max_c': 46.0,\n",
       "   'sensacion_min_c': None,\n",
       "   'sensacion_max_f': 114.8,\n",
       "   'sensacion_min_f': None,\n",
       "   'punto_rocio_max_c': 0.0,\n",
       "   'punto_rocio_min_c': 0.0,\n",
       "   'punto_rocio_max_f': 32.0,\n",
       "   'punto_rocio_min_f': 32.0,\n",
       "   'rain_mm_str': None,\n",
       "   'rain_prob_porc': None,\n",
       "   'nubosidad_porc': 44.8,\n",
       "   'eto_mm': 7.3,\n",
       "   'eto_in': 0.29,\n",
       "   'radiacion_joules': 1902.2,\n",
       "   'radiacion_mjoules': 19.022,\n",
       "   'horas_frio': 0.0,\n",
       "   'HrsTempMenor10': 0.0,\n",
       "   'HrsTempMenor7_2': 0.0,\n",
       "   'HrsTempMenor0': 0.0,\n",
       "   'HrsTempMayor29': 564.0,\n",
       "   'U_richardson': 0.0,\n",
       "   'GradosDiaB10': 638.6,\n",
       "   'GradosDiaB4_5': 781.6,\n",
       "   'indice_estres': 66.0,\n",
       "   'fecha': '2023-08-31',\n",
       "   'icono': 0},\n",
       "  {'temp_max_c': 36.8,\n",
       "   'temp_min_c': 27.2,\n",
       "   'temp_prom_c': 33.1,\n",
       "   'temp_max_f': 98.2,\n",
       "   'temp_min_f': 81.0,\n",
       "   'temp_prom_f': 91.6,\n",
       "   'hum_max_porc': 65.6,\n",
       "   'hum_prom_porc': 55.3,\n",
       "   'hum_min_porc': 46.0,\n",
       "   'viento_max_kmh': 21.9,\n",
       "   'viento_max_mph': 13.6,\n",
       "   'viento_rafaga_max_kmh': 32.8,\n",
       "   'viento_rafaga_max_mph': 20.4,\n",
       "   'sensacion_max_c': 45.4,\n",
       "   'sensacion_min_c': None,\n",
       "   'sensacion_max_f': 113.7,\n",
       "   'sensacion_min_f': None,\n",
       "   'punto_rocio_max_c': 0.0,\n",
       "   'punto_rocio_min_c': 0.0,\n",
       "   'punto_rocio_max_f': 32.0,\n",
       "   'punto_rocio_min_f': 32.0,\n",
       "   'rain_mm_str': None,\n",
       "   'rain_prob_porc': None,\n",
       "   'nubosidad_porc': 19.3,\n",
       "   'eto_mm': 7.1,\n",
       "   'eto_in': 0.28,\n",
       "   'radiacion_joules': 2008.0,\n",
       "   'radiacion_mjoules': 20.08,\n",
       "   'horas_frio': 0.0,\n",
       "   'HrsTempMenor10': 0.0,\n",
       "   'HrsTempMenor7_2': 0.0,\n",
       "   'HrsTempMenor0': 0.0,\n",
       "   'HrsTempMayor29': 583.0,\n",
       "   'U_richardson': 0.0,\n",
       "   'GradosDiaB10': 660.6,\n",
       "   'GradosDiaB4_5': 809.1,\n",
       "   'indice_estres': 95.0,\n",
       "   'fecha': '2023-09-01',\n",
       "   'icono': 0},\n",
       "  {'temp_max_c': 37.5,\n",
       "   'temp_min_c': 28.3,\n",
       "   'temp_prom_c': 33.7,\n",
       "   'temp_max_f': 99.5,\n",
       "   'temp_min_f': 82.9,\n",
       "   'temp_prom_f': 92.7,\n",
       "   'hum_max_porc': 60.6,\n",
       "   'hum_prom_porc': 52.9,\n",
       "   'hum_min_porc': 48.7,\n",
       "   'viento_max_kmh': 18.4,\n",
       "   'viento_max_mph': 11.4,\n",
       "   'viento_rafaga_max_kmh': 27.6,\n",
       "   'viento_rafaga_max_mph': 17.1,\n",
       "   'sensacion_max_c': 46.9,\n",
       "   'sensacion_min_c': None,\n",
       "   'sensacion_max_f': 116.4,\n",
       "   'sensacion_min_f': None,\n",
       "   'punto_rocio_max_c': 0.0,\n",
       "   'punto_rocio_min_c': 0.0,\n",
       "   'punto_rocio_max_f': 32.0,\n",
       "   'punto_rocio_min_f': 32.0,\n",
       "   'rain_mm_str': None,\n",
       "   'rain_prob_porc': None,\n",
       "   'nubosidad_porc': 11.3,\n",
       "   'eto_mm': 6.9,\n",
       "   'eto_in': 0.27,\n",
       "   'radiacion_joules': 1897.1,\n",
       "   'radiacion_mjoules': 18.971,\n",
       "   'horas_frio': 0.0,\n",
       "   'HrsTempMenor10': 0.0,\n",
       "   'HrsTempMenor7_2': 0.0,\n",
       "   'HrsTempMenor0': 0.0,\n",
       "   'HrsTempMayor29': 604.0,\n",
       "   'U_richardson': 0.0,\n",
       "   'GradosDiaB10': 683.5,\n",
       "   'GradosDiaB4_5': 837.5,\n",
       "   'indice_estres': 107.4,\n",
       "   'fecha': '2023-09-02',\n",
       "   'icono': 0}]]"
      ]
     },
     "execution_count": 57,
     "metadata": {},
     "output_type": "execute_result"
    }
   ],
   "source": [
    "import requests\n",
    "from django.core.management.base import BaseCommand\n",
    "\n",
    "def get_info():\n",
    "    url = 'https://globalmet.mx/estaciones/conditions/78/'\n",
    "    url_two = 'https://globalmet.mx/api/v2/pronosticos/348/'\n",
    "    r = requests.get(url, headers={'Authorization':      \n",
    "        'Token ea86a649b495c8cb159b32a89099359503f8ff28'})\n",
    "    now = r.json()\n",
    "    future_data = requests.get(url_two, headers={'Authorization':      \n",
    "        'Token ea86a649b495c8cb159b32a89099359503f8ff28'})\n",
    "    future_data = future_data.json()\n",
    "    print(now)\n",
    "    print(future_data)\n",
    "    return [now, future_data]\n",
    "\n",
    "get_info()\n",
    "\n",
    "\n",
    "\n"
   ]
  },
  {
   "cell_type": "code",
   "execution_count": 58,
   "metadata": {},
   "outputs": [],
   "source": [
    "# Diccionario de informacion actual\n",
    "current = dict()\n",
    "\n",
    "# Diccionario de pronosticos\n",
    "future = dict()"
   ]
  },
  {
   "cell_type": "code",
   "execution_count": 59,
   "metadata": {},
   "outputs": [],
   "source": [
    "url = 'https://globalmet.mx/estaciones/conditions/78/'\n",
    "url_two = 'https://globalmet.mx/api/v2/pronosticos/348/'\n",
    "r = requests.get(url, headers={'Authorization':      \n",
    "    'Token ea86a649b495c8cb159b32a89099359503f8ff28'})\n",
    "now = r.json()"
   ]
  },
  {
   "cell_type": "code",
   "execution_count": 60,
   "metadata": {},
   "outputs": [
    {
     "name": "stdout",
     "output_type": "stream",
     "text": [
      "{'current_observation': {'precipitacion_intensidad_alta_mmh': None, 'precipitacion_intensidad_mmh': None, 'extraTemp3_c': '--', 'precip_today_metric': 0.0, 'temp_suelo_2': '--', 'temp_suelo_3': '--', 'temp_suelo_4': '--', 'temp_c': 29.8, 'extraTemp1_c': '--', 'horas_frio': 0.0, 'extraHumid2': '--', 'extraHumid1': '--', 'wind_dir_degrees': '--', 'precipitacion_intensidad_alta_inh': None, 'pressure_mb': 1011.0, 'extraTemp2': '--', 'extraTemp3': '--', 'wind_dir': '--', 'extraTemp1': '--', 'wind_kph': 0.0, 'solarradiation': 0.0, 'hum_suelo_4': '--', 'hum_suelo_3': '--', 'hum_suelo_2': '--', 'hum_suelo_1': '--', 'horas_frio_ef': 0, 'local_epoch': '1691390040', 'observation_time': 'Mon Aug  7 06:34:00 2023', 'eto_mm': 4.83, 'precipitacion_intensidad_inh': None, 'relative_humidity': '74%', 'radiacion_jouls_accumulated': 2146.69, 'dewpoint_c': 25.0, 'temp_suelo_1': '--', 'extraTemp2_c': '--', 'eto_in': 0.19, 'heat_index_c': '--', 'fecha_medicion': '2023-08-07T06:34:00Z', 'eto': 0.19, 'wind_gust_kph': 1.6}}\n"
     ]
    }
   ],
   "source": [
    "print(now)"
   ]
  },
  {
   "cell_type": "code",
   "execution_count": 61,
   "metadata": {},
   "outputs": [
    {
     "name": "stdout",
     "output_type": "stream",
     "text": [
      "2023-08-07T06:34:00Z\n",
      "29.8\n",
      "0.0\n",
      "--\n",
      "74%\n",
      "0.19\n"
     ]
    }
   ],
   "source": [
    "fecha_medicion = now['current_observation']['fecha_medicion']\n",
    "temp_c = now['current_observation']['temp_c']\n",
    "wind_kph = now['current_observation']['wind_kph']\n",
    "wind_dir_degrees = now['current_observation']['wind_dir_degrees']\n",
    "relative_humidity = now['current_observation']['relative_humidity']\n",
    "eto = now['current_observation']['eto']\n",
    "\n",
    "\n",
    "print(fecha_medicion)\n",
    "print(temp_c)\n",
    "print(wind_kph)\n",
    "print(wind_dir_degrees)\n",
    "print(relative_humidity)\n",
    "print(eto)"
   ]
  },
  {
   "cell_type": "code",
   "execution_count": 69,
   "metadata": {},
   "outputs": [
    {
     "name": "stdout",
     "output_type": "stream",
     "text": [
      "{'fecha_medicion': '2023-08-07T06:34:00Z', 'temp_c': 29.8, 'wind_kph': 0.0, 'wind_dir_degrees': '--', 'relative_humidity': '74%', 'eto': 0.19}\n"
     ]
    }
   ],
   "source": [
    "current['fecha_medicion']=now['current_observation']['fecha_medicion']\n",
    "current['temp_c']=now['current_observation']['temp_c']\n",
    "current['wind_kph']=now['current_observation']['wind_kph']\n",
    "current['wind_dir_degrees']=now['current_observation']['wind_dir_degrees']\n",
    "current['relative_humidity']=now['current_observation']['relative_humidity']\n",
    "current['eto']=now['current_observation']['eto']\n",
    "print(current)"
   ]
  },
  {
   "cell_type": "code",
   "execution_count": 63,
   "metadata": {},
   "outputs": [],
   "source": [
    "future_data = requests.get(url_two, headers={'Authorization':      \n",
    "        'Token ea86a649b495c8cb159b32a89099359503f8ff28'})\n",
    "future_data = future_data.json()\n",
    "\n"
   ]
  },
  {
   "cell_type": "code",
   "execution_count": 71,
   "metadata": {},
   "outputs": [
    {
     "name": "stdout",
     "output_type": "stream",
     "text": [
      "{'temp_max_c': 41.6, 'temp_min_c': 29.7, 'temp_prom_c': 35.1, 'temp_max_f': 106.9, 'temp_min_f': 85.5, 'temp_prom_f': 95.2, 'hum_max_porc': 68.4, 'hum_prom_porc': 50.4, 'hum_min_porc': 29.2, 'viento_max_kmh': 20.5, 'viento_max_mph': 12.7, 'viento_rafaga_max_kmh': 38.5, 'viento_rafaga_max_mph': 23.9, 'sensacion_max_c': 49.5, 'sensacion_min_c': None, 'sensacion_max_f': 121.1, 'sensacion_min_f': None, 'punto_rocio_max_c': 24.1, 'punto_rocio_min_c': 19.2, 'punto_rocio_max_f': 75.4, 'punto_rocio_min_f': 66.6, 'rain_mm_str': '0-5', 'rain_prob_porc': 25, 'nubosidad_porc': 40.8, 'eto_mm': 7.8, 'eto_in': 0.31, 'radiacion_joules': 2215.1, 'radiacion_mjoules': 22.151, 'horas_frio': 0.0, 'HrsTempMenor10': 0.0, 'HrsTempMenor7_2': 0.0, 'HrsTempMenor0': 0.0, 'HrsTempMayor29': 24.0, 'U_richardson': 0.0, 'GradosDiaB10': 25.6, 'GradosDiaB4_5': 31.1, 'indice_estres': 133.9, 'fecha': '2023-08-06', 'icono': 6}\n",
      "{'temp_max_c': 42.5, 'temp_min_c': 29.0, 'temp_prom_c': 36.1, 'temp_max_f': 108.5, 'temp_min_f': 84.2, 'temp_prom_f': 97.0, 'hum_max_porc': 72.9, 'hum_prom_porc': 54.0, 'hum_min_porc': 35.9, 'viento_max_kmh': 25.0, 'viento_max_mph': 15.5, 'viento_rafaga_max_kmh': 20.5, 'viento_rafaga_max_mph': 12.7, 'sensacion_max_c': 57.2, 'sensacion_min_c': None, 'sensacion_max_f': 135.0, 'sensacion_min_f': None, 'punto_rocio_max_c': 24.5, 'punto_rocio_min_c': 0.0, 'punto_rocio_max_f': 76.1, 'punto_rocio_min_f': 32.0, 'rain_mm_str': '0-7.5', 'rain_prob_porc': 40, 'nubosidad_porc': 13.3, 'eto_mm': 7.6, 'eto_in': 0.3, 'radiacion_joules': 2117.4, 'radiacion_mjoules': 21.174, 'horas_frio': 0.0, 'HrsTempMenor10': 0.0, 'HrsTempMenor7_2': 0.0, 'HrsTempMenor0': 0.0, 'HrsTempMayor29': 46.0, 'U_richardson': 0.0, 'GradosDiaB10': 51.4, 'GradosDiaB4_5': 62.4, 'indice_estres': 117.9, 'fecha': '2023-08-07', 'icono': 17}\n",
      "{'temp_max_c': 45.0, 'temp_min_c': 29.8, 'temp_prom_c': 37.2, 'temp_max_f': 113.0, 'temp_min_f': 85.6, 'temp_prom_f': 99.0, 'hum_max_porc': 60.8, 'hum_prom_porc': 47.3, 'hum_min_porc': 29.4, 'viento_max_kmh': 27.4, 'viento_max_mph': 17.0, 'viento_rafaga_max_kmh': 41.1, 'viento_rafaga_max_mph': 25.5, 'sensacion_max_c': 57.5, 'sensacion_min_c': None, 'sensacion_max_f': 135.5, 'sensacion_min_f': None, 'punto_rocio_max_c': 0.0, 'punto_rocio_min_c': 0.0, 'punto_rocio_max_f': 32.0, 'punto_rocio_min_f': 32.0, 'rain_mm_str': '5-15', 'rain_prob_porc': 45, 'nubosidad_porc': 0.0, 'eto_mm': 8.3, 'eto_in': 0.33, 'radiacion_joules': 2139.9, 'radiacion_mjoules': 21.399, 'horas_frio': 0.0, 'HrsTempMenor10': 0.0, 'HrsTempMenor7_2': 0.0, 'HrsTempMenor0': 0.0, 'HrsTempMayor29': 70.0, 'U_richardson': 0.0, 'GradosDiaB10': 78.8, 'GradosDiaB4_5': 95.3, 'indice_estres': 158.2, 'fecha': '2023-08-08', 'icono': 17}\n",
      "{'temp_max_c': 44.1, 'temp_min_c': 29.9, 'temp_prom_c': 37.5, 'temp_max_f': 111.4, 'temp_min_f': 85.8, 'temp_prom_f': 99.5, 'hum_max_porc': 60.3, 'hum_prom_porc': 48.6, 'hum_min_porc': 42.7, 'viento_max_kmh': 27.5, 'viento_max_mph': 17.1, 'viento_rafaga_max_kmh': 41.3, 'viento_rafaga_max_mph': 25.7, 'sensacion_max_c': 63.9, 'sensacion_min_c': None, 'sensacion_max_f': 147.0, 'sensacion_min_f': None, 'punto_rocio_max_c': 0.0, 'punto_rocio_min_c': 0.0, 'punto_rocio_max_f': 32.0, 'punto_rocio_min_f': 32.0, 'rain_mm_str': '0-5', 'rain_prob_porc': 25, 'nubosidad_porc': 64.2, 'eto_mm': 7.6, 'eto_in': 0.3, 'radiacion_joules': 2253.3, 'radiacion_mjoules': 22.533, 'horas_frio': 0.0, 'HrsTempMenor10': 0.0, 'HrsTempMenor7_2': 0.0, 'HrsTempMenor0': 0.0, 'HrsTempMayor29': 94.0, 'U_richardson': 0.0, 'GradosDiaB10': 105.8, 'GradosDiaB4_5': 127.8, 'indice_estres': 148.3, 'fecha': '2023-08-09', 'icono': 6}\n",
      "{'temp_max_c': 42.1, 'temp_min_c': 29.4, 'temp_prom_c': 36.1, 'temp_max_f': 107.8, 'temp_min_f': 84.9, 'temp_prom_f': 97.0, 'hum_max_porc': 49.5, 'hum_prom_porc': 39.5, 'hum_min_porc': 32.6, 'viento_max_kmh': 19.3, 'viento_max_mph': 12.0, 'viento_rafaga_max_kmh': 29.0, 'viento_rafaga_max_mph': 18.0, 'sensacion_max_c': 49.0, 'sensacion_min_c': None, 'sensacion_max_f': 120.2, 'sensacion_min_f': None, 'punto_rocio_max_c': 0.0, 'punto_rocio_min_c': 0.0, 'punto_rocio_max_f': 32.0, 'punto_rocio_min_f': 32.0, 'rain_mm_str': None, 'rain_prob_porc': None, 'nubosidad_porc': 36.4, 'eto_mm': 7.5, 'eto_in': 0.3, 'radiacion_joules': 2194.6, 'radiacion_mjoules': 21.946, 'horas_frio': 0.0, 'HrsTempMenor10': 0.0, 'HrsTempMenor7_2': 0.0, 'HrsTempMenor0': 0.0, 'HrsTempMayor29': 118.0, 'U_richardson': 0.0, 'GradosDiaB10': 131.6, 'GradosDiaB4_5': 159.1, 'indice_estres': 189.2, 'fecha': '2023-08-10', 'icono': 0}\n",
      "{'temp_max_c': 42.5, 'temp_min_c': 28.7, 'temp_prom_c': 36.3, 'temp_max_f': 108.5, 'temp_min_f': 83.7, 'temp_prom_f': 97.3, 'hum_max_porc': 44.3, 'hum_prom_porc': 34.9, 'hum_min_porc': 27.9, 'viento_max_kmh': 21.0, 'viento_max_mph': 13.0, 'viento_rafaga_max_kmh': 31.5, 'viento_rafaga_max_mph': 19.6, 'sensacion_max_c': 47.1, 'sensacion_min_c': None, 'sensacion_max_f': 116.8, 'sensacion_min_f': None, 'punto_rocio_max_c': 0.0, 'punto_rocio_min_c': 0.0, 'punto_rocio_max_f': 32.0, 'punto_rocio_min_f': 32.0, 'rain_mm_str': None, 'rain_prob_porc': None, 'nubosidad_porc': 0.0, 'eto_mm': 8.0, 'eto_in': 0.31, 'radiacion_joules': 2232.6, 'radiacion_mjoules': 22.326, 'horas_frio': 0.0, 'HrsTempMenor10': 0.0, 'HrsTempMenor7_2': 0.0, 'HrsTempMenor0': 0.0, 'HrsTempMayor29': 141.0, 'U_richardson': 0.0, 'GradosDiaB10': 157.2, 'GradosDiaB4_5': 190.2, 'indice_estres': 215.5, 'fecha': '2023-08-11', 'icono': 0}\n",
      "{'temp_max_c': 43.6, 'temp_min_c': 28.5, 'temp_prom_c': 36.4, 'temp_max_f': 110.5, 'temp_min_f': 83.3, 'temp_prom_f': 97.5, 'hum_max_porc': 60.3, 'hum_prom_porc': 39.5, 'hum_min_porc': 26.1, 'viento_max_kmh': 16.7, 'viento_max_mph': 10.4, 'viento_rafaga_max_kmh': 25.0, 'viento_rafaga_max_mph': 15.5, 'sensacion_max_c': 48.3, 'sensacion_min_c': None, 'sensacion_max_f': 118.9, 'sensacion_min_f': None, 'punto_rocio_max_c': 0.0, 'punto_rocio_min_c': 0.0, 'punto_rocio_max_f': 32.0, 'punto_rocio_min_f': 32.0, 'rain_mm_str': None, 'rain_prob_porc': None, 'nubosidad_porc': 21.0, 'eto_mm': 7.5, 'eto_in': 0.3, 'radiacion_joules': 2195.3, 'radiacion_mjoules': 21.953, 'horas_frio': 0.0, 'HrsTempMenor10': 0.0, 'HrsTempMenor7_2': 0.0, 'HrsTempMenor0': 0.0, 'HrsTempMayor29': 164.0, 'U_richardson': 0.0, 'GradosDiaB10': 183.2, 'GradosDiaB4_5': 221.7, 'indice_estres': 197.5, 'fecha': '2023-08-12', 'icono': 0}\n",
      "{'temp_max_c': 44.6, 'temp_min_c': 29.2, 'temp_prom_c': 37.2, 'temp_max_f': 112.3, 'temp_min_f': 84.6, 'temp_prom_f': 99.0, 'hum_max_porc': 32.8, 'hum_prom_porc': 26.8, 'hum_min_porc': 21.7, 'viento_max_kmh': 17.1, 'viento_max_mph': 10.6, 'viento_rafaga_max_kmh': 25.7, 'viento_rafaga_max_mph': 16.0, 'sensacion_max_c': 47.5, 'sensacion_min_c': None, 'sensacion_max_f': 117.5, 'sensacion_min_f': None, 'punto_rocio_max_c': 0.0, 'punto_rocio_min_c': 0.0, 'punto_rocio_max_f': 32.0, 'punto_rocio_min_f': 32.0, 'rain_mm_str': None, 'rain_prob_porc': None, 'nubosidad_porc': 23.3, 'eto_mm': 7.3, 'eto_in': 0.29, 'radiacion_joules': 2178.0, 'radiacion_mjoules': 21.78, 'horas_frio': 0.0, 'HrsTempMenor10': 0.0, 'HrsTempMenor7_2': 0.0, 'HrsTempMenor0': 0.0, 'HrsTempMayor29': 188.0, 'U_richardson': 0.0, 'GradosDiaB10': 210.1, 'GradosDiaB4_5': 254.1, 'indice_estres': 265.4, 'fecha': '2023-08-13', 'icono': 0}\n",
      "{'temp_max_c': 39.8, 'temp_min_c': 29.3, 'temp_prom_c': 34.8, 'temp_max_f': 103.6, 'temp_min_f': 84.7, 'temp_prom_f': 94.6, 'hum_max_porc': 49.4, 'hum_prom_porc': 36.3, 'hum_min_porc': 28.5, 'viento_max_kmh': 19.6, 'viento_max_mph': 12.2, 'viento_rafaga_max_kmh': 29.4, 'viento_rafaga_max_mph': 18.3, 'sensacion_max_c': 43.8, 'sensacion_min_c': None, 'sensacion_max_f': 110.8, 'sensacion_min_f': None, 'punto_rocio_max_c': 0.0, 'punto_rocio_min_c': 0.0, 'punto_rocio_max_f': 32.0, 'punto_rocio_min_f': 32.0, 'rain_mm_str': None, 'rain_prob_porc': None, 'nubosidad_porc': 32.2, 'eto_mm': 8.1, 'eto_in': 0.32, 'radiacion_joules': 2128.6, 'radiacion_mjoules': 21.286, 'horas_frio': 0.0, 'HrsTempMenor10': 0.0, 'HrsTempMenor7_2': 0.0, 'HrsTempMenor0': 0.0, 'HrsTempMayor29': 212.0, 'U_richardson': 0.0, 'GradosDiaB10': 234.6, 'GradosDiaB4_5': 284.1, 'indice_estres': 193.8, 'fecha': '2023-08-14', 'icono': 0}\n",
      "{'temp_max_c': 39.4, 'temp_min_c': 27.0, 'temp_prom_c': 33.4, 'temp_max_f': 102.9, 'temp_min_f': 80.6, 'temp_prom_f': 92.1, 'hum_max_porc': 57.3, 'hum_prom_porc': 46.8, 'hum_min_porc': 42.7, 'viento_max_kmh': 32.9, 'viento_max_mph': 20.4, 'viento_rafaga_max_kmh': 49.3, 'viento_rafaga_max_mph': 30.6, 'sensacion_max_c': 48.8, 'sensacion_min_c': None, 'sensacion_max_f': 119.8, 'sensacion_min_f': None, 'punto_rocio_max_c': 0.0, 'punto_rocio_min_c': 0.0, 'punto_rocio_max_f': 32.0, 'punto_rocio_min_f': 32.0, 'rain_mm_str': None, 'rain_prob_porc': None, 'nubosidad_porc': 67.7, 'eto_mm': 8.3, 'eto_in': 0.33, 'radiacion_joules': 2004.2, 'radiacion_mjoules': 20.042, 'horas_frio': 0.0, 'HrsTempMenor10': 0.0, 'HrsTempMenor7_2': 0.0, 'HrsTempMenor0': 0.0, 'HrsTempMayor29': 232.0, 'U_richardson': 0.0, 'GradosDiaB10': 257.8, 'GradosDiaB4_5': 312.8, 'indice_estres': 133.0, 'fecha': '2023-08-15', 'icono': 0}\n",
      "{'temp_max_c': 39.2, 'temp_min_c': 26.1, 'temp_prom_c': 33.3, 'temp_max_f': 102.6, 'temp_min_f': 79.0, 'temp_prom_f': 91.9, 'hum_max_porc': 61.1, 'hum_prom_porc': 44.2, 'hum_min_porc': 32.9, 'viento_max_kmh': 28.2, 'viento_max_mph': 17.5, 'viento_rafaga_max_kmh': 42.3, 'viento_rafaga_max_mph': 26.3, 'sensacion_max_c': 42.8, 'sensacion_min_c': None, 'sensacion_max_f': 109.0, 'sensacion_min_f': None, 'punto_rocio_max_c': 0.0, 'punto_rocio_min_c': 0.0, 'punto_rocio_max_f': 32.0, 'punto_rocio_min_f': 32.0, 'rain_mm_str': None, 'rain_prob_porc': None, 'nubosidad_porc': 51.1, 'eto_mm': 6.9, 'eto_in': 0.27, 'radiacion_joules': 1994.1, 'radiacion_mjoules': 19.941, 'horas_frio': 0.0, 'HrsTempMenor10': 0.0, 'HrsTempMenor7_2': 0.0, 'HrsTempMenor0': 0.0, 'HrsTempMayor29': 250.0, 'U_richardson': 0.0, 'GradosDiaB10': 280.5, 'GradosDiaB4_5': 341.0, 'indice_estres': 151.8, 'fecha': '2023-08-16', 'icono': 0}\n",
      "{'temp_max_c': 43.8, 'temp_min_c': 29.3, 'temp_prom_c': 36.6, 'temp_max_f': 110.8, 'temp_min_f': 84.7, 'temp_prom_f': 97.9, 'hum_max_porc': 46.8, 'hum_prom_porc': 36.4, 'hum_min_porc': 28.5, 'viento_max_kmh': 27.5, 'viento_max_mph': 17.1, 'viento_rafaga_max_kmh': 41.3, 'viento_rafaga_max_mph': 25.7, 'sensacion_max_c': 50.2, 'sensacion_min_c': None, 'sensacion_max_f': 122.4, 'sensacion_min_f': None, 'punto_rocio_max_c': 0.0, 'punto_rocio_min_c': 0.0, 'punto_rocio_max_f': 32.0, 'punto_rocio_min_f': 32.0, 'rain_mm_str': None, 'rain_prob_porc': None, 'nubosidad_porc': 30.0, 'eto_mm': 8.7, 'eto_in': 0.34, 'radiacion_joules': 1835.1, 'radiacion_mjoules': 18.351, 'horas_frio': 0.0, 'HrsTempMenor10': 0.0, 'HrsTempMenor7_2': 0.0, 'HrsTempMenor0': 0.0, 'HrsTempMayor29': 274.0, 'U_richardson': 0.0, 'GradosDiaB10': 307.0, 'GradosDiaB4_5': 373.0, 'indice_estres': 211.3, 'fecha': '2023-08-17', 'icono': 0}\n",
      "{'temp_max_c': 42.1, 'temp_min_c': 29.1, 'temp_prom_c': 35.2, 'temp_max_f': 107.8, 'temp_min_f': 84.4, 'temp_prom_f': 95.4, 'hum_max_porc': 42.6, 'hum_prom_porc': 36.1, 'hum_min_porc': 30.5, 'viento_max_kmh': 20.6, 'viento_max_mph': 12.8, 'viento_rafaga_max_kmh': 30.9, 'viento_rafaga_max_mph': 19.2, 'sensacion_max_c': 47.7, 'sensacion_min_c': None, 'sensacion_max_f': 117.9, 'sensacion_min_f': None, 'punto_rocio_max_c': 0.0, 'punto_rocio_min_c': 0.0, 'punto_rocio_max_f': 32.0, 'punto_rocio_min_f': 32.0, 'rain_mm_str': None, 'rain_prob_porc': None, 'nubosidad_porc': 11.5, 'eto_mm': 7.1, 'eto_in': 0.28, 'radiacion_joules': 2144.2, 'radiacion_mjoules': 21.442, 'horas_frio': 0.0, 'HrsTempMenor10': 0.0, 'HrsTempMenor7_2': 0.0, 'HrsTempMenor0': 0.0, 'HrsTempMayor29': 298.0, 'U_richardson': 0.0, 'GradosDiaB10': 332.6, 'GradosDiaB4_5': 404.1, 'indice_estres': 199.0, 'fecha': '2023-08-18', 'icono': 0}\n",
      "{'temp_max_c': 37.7, 'temp_min_c': 27.5, 'temp_prom_c': 33.3, 'temp_max_f': 99.9, 'temp_min_f': 81.5, 'temp_prom_f': 91.9, 'hum_max_porc': 72.0, 'hum_prom_porc': 54.5, 'hum_min_porc': 43.2, 'viento_max_kmh': 22.0, 'viento_max_mph': 13.7, 'viento_rafaga_max_kmh': 33.0, 'viento_rafaga_max_mph': 20.5, 'sensacion_max_c': 45.3, 'sensacion_min_c': None, 'sensacion_max_f': 113.5, 'sensacion_min_f': None, 'punto_rocio_max_c': 0.0, 'punto_rocio_min_c': 0.0, 'punto_rocio_max_f': 32.0, 'punto_rocio_min_f': 32.0, 'rain_mm_str': None, 'rain_prob_porc': None, 'nubosidad_porc': 11.0, 'eto_mm': 7.6, 'eto_in': 0.3, 'radiacion_joules': 2126.2, 'radiacion_mjoules': 21.262, 'horas_frio': 0.0, 'HrsTempMenor10': 0.0, 'HrsTempMenor7_2': 0.0, 'HrsTempMenor0': 0.0, 'HrsTempMayor29': 319.0, 'U_richardson': 0.0, 'GradosDiaB10': 355.2, 'GradosDiaB4_5': 432.2, 'indice_estres': 100.0, 'fecha': '2023-08-19', 'icono': 0}\n",
      "{'temp_max_c': 38.3, 'temp_min_c': 25.4, 'temp_prom_c': 32.3, 'temp_max_f': 100.9, 'temp_min_f': 77.7, 'temp_prom_f': 90.1, 'hum_max_porc': 61.0, 'hum_prom_porc': 49.1, 'hum_min_porc': 41.0, 'viento_max_kmh': 24.8, 'viento_max_mph': 15.4, 'viento_rafaga_max_kmh': 37.2, 'viento_rafaga_max_mph': 23.1, 'sensacion_max_c': 46.1, 'sensacion_min_c': None, 'sensacion_max_f': 115.0, 'sensacion_min_f': None, 'punto_rocio_max_c': 0.0, 'punto_rocio_min_c': 0.0, 'punto_rocio_max_f': 32.0, 'punto_rocio_min_f': 32.0, 'rain_mm_str': None, 'rain_prob_porc': None, 'nubosidad_porc': 33.5, 'eto_mm': 7.6, 'eto_in': 0.3, 'radiacion_joules': 2126.2, 'radiacion_mjoules': 21.262, 'horas_frio': 0.0, 'HrsTempMenor10': 0.0, 'HrsTempMenor7_2': 0.0, 'HrsTempMenor0': 0.0, 'HrsTempMayor29': 336.0, 'U_richardson': 0.0, 'GradosDiaB10': 377.0, 'GradosDiaB4_5': 459.5, 'indice_estres': 118.8, 'fecha': '2023-08-20', 'icono': 0}\n",
      "{'temp_max_c': 37.5, 'temp_min_c': 26.3, 'temp_prom_c': 33.0, 'temp_max_f': 99.5, 'temp_min_f': 79.3, 'temp_prom_f': 91.4, 'hum_max_porc': 60.4, 'hum_prom_porc': 53.9, 'hum_min_porc': 43.2, 'viento_max_kmh': 23.0, 'viento_max_mph': 14.3, 'viento_rafaga_max_kmh': 34.5, 'viento_rafaga_max_mph': 21.4, 'sensacion_max_c': 46.2, 'sensacion_min_c': None, 'sensacion_max_f': 115.2, 'sensacion_min_f': None, 'punto_rocio_max_c': 0.0, 'punto_rocio_min_c': 0.0, 'punto_rocio_max_f': 32.0, 'punto_rocio_min_f': 32.0, 'rain_mm_str': None, 'rain_prob_porc': None, 'nubosidad_porc': 70.5, 'eto_mm': 5.8, 'eto_in': 0.23, 'radiacion_joules': 1549.2, 'radiacion_mjoules': 15.492, 'horas_frio': 0.0, 'HrsTempMenor10': 0.0, 'HrsTempMenor7_2': 0.0, 'HrsTempMenor0': 0.0, 'HrsTempMayor29': 355.0, 'U_richardson': 0.0, 'GradosDiaB10': 398.9, 'GradosDiaB4_5': 486.9, 'indice_estres': 99.3, 'fecha': '2023-08-21', 'icono': 0}\n",
      "{'temp_max_c': 39.0, 'temp_min_c': 27.8, 'temp_prom_c': 33.7, 'temp_max_f': 102.2, 'temp_min_f': 82.0, 'temp_prom_f': 92.7, 'hum_max_porc': 60.6, 'hum_prom_porc': 49.5, 'hum_min_porc': 41.2, 'viento_max_kmh': 17.3, 'viento_max_mph': 10.7, 'viento_rafaga_max_kmh': 26.0, 'viento_rafaga_max_mph': 16.2, 'sensacion_max_c': 46.4, 'sensacion_min_c': None, 'sensacion_max_f': 115.5, 'sensacion_min_f': None, 'punto_rocio_max_c': 0.0, 'punto_rocio_min_c': 0.0, 'punto_rocio_max_f': 32.0, 'punto_rocio_min_f': 32.0, 'rain_mm_str': None, 'rain_prob_porc': None, 'nubosidad_porc': 12.6, 'eto_mm': 6.7, 'eto_in': 0.26, 'radiacion_joules': 2090.5, 'radiacion_mjoules': 20.905, 'horas_frio': 0.0, 'HrsTempMenor10': 0.0, 'HrsTempMenor7_2': 0.0, 'HrsTempMenor0': 0.0, 'HrsTempMayor29': 374.0, 'U_richardson': 0.0, 'GradosDiaB10': 422.3, 'GradosDiaB4_5': 515.8, 'indice_estres': 126.1, 'fecha': '2023-08-22', 'icono': 0}\n",
      "{'temp_max_c': 38.0, 'temp_min_c': 27.9, 'temp_prom_c': 33.9, 'temp_max_f': 100.4, 'temp_min_f': 82.2, 'temp_prom_f': 93.0, 'hum_max_porc': 71.1, 'hum_prom_porc': 55.4, 'hum_min_porc': 46.4, 'viento_max_kmh': 22.5, 'viento_max_mph': 14.0, 'viento_rafaga_max_kmh': 33.8, 'viento_rafaga_max_mph': 21.0, 'sensacion_max_c': 48.4, 'sensacion_min_c': None, 'sensacion_max_f': 119.1, 'sensacion_min_f': None, 'punto_rocio_max_c': 0.0, 'punto_rocio_min_c': 0.0, 'punto_rocio_max_f': 32.0, 'punto_rocio_min_f': 32.0, 'rain_mm_str': None, 'rain_prob_porc': None, 'nubosidad_porc': 32.0, 'eto_mm': 6.9, 'eto_in': 0.27, 'radiacion_joules': 1937.5, 'radiacion_mjoules': 19.375, 'horas_frio': 0.0, 'HrsTempMenor10': 0.0, 'HrsTempMenor7_2': 0.0, 'HrsTempMenor0': 0.0, 'HrsTempMayor29': 397.0, 'U_richardson': 0.0, 'GradosDiaB10': 445.3, 'GradosDiaB4_5': 544.3, 'indice_estres': 97.5, 'fecha': '2023-08-23', 'icono': 0}\n",
      "{'temp_max_c': 37.0, 'temp_min_c': 26.5, 'temp_prom_c': 32.2, 'temp_max_f': 98.6, 'temp_min_f': 79.7, 'temp_prom_f': 90.0, 'hum_max_porc': 70.4, 'hum_prom_porc': 55.7, 'hum_min_porc': 45.4, 'viento_max_kmh': 20.0, 'viento_max_mph': 12.4, 'viento_rafaga_max_kmh': 30.0, 'viento_rafaga_max_mph': 18.6, 'sensacion_max_c': 44.0, 'sensacion_min_c': None, 'sensacion_max_f': 111.2, 'sensacion_min_f': None, 'punto_rocio_max_c': 0.0, 'punto_rocio_min_c': 0.0, 'punto_rocio_max_f': 32.0, 'punto_rocio_min_f': 32.0, 'rain_mm_str': None, 'rain_prob_porc': None, 'nubosidad_porc': 18.9, 'eto_mm': 6.8, 'eto_in': 0.27, 'radiacion_joules': 1889.5, 'radiacion_mjoules': 18.895, 'horas_frio': 0.0, 'HrsTempMenor10': 0.0, 'HrsTempMenor7_2': 0.0, 'HrsTempMenor0': 0.0, 'HrsTempMayor29': 414.0, 'U_richardson': 0.0, 'GradosDiaB10': 467.1, 'GradosDiaB4_5': 571.6, 'indice_estres': 92.0, 'fecha': '2023-08-24', 'icono': 0}\n",
      "{'temp_max_c': 38.0, 'temp_min_c': 26.8, 'temp_prom_c': 31.8, 'temp_max_f': 100.4, 'temp_min_f': 80.2, 'temp_prom_f': 89.2, 'hum_max_porc': 62.0, 'hum_prom_porc': 49.4, 'hum_min_porc': 37.8, 'viento_max_kmh': 13.1, 'viento_max_mph': 8.1, 'viento_rafaga_max_kmh': 19.6, 'viento_rafaga_max_mph': 12.2, 'sensacion_max_c': 42.4, 'sensacion_min_c': None, 'sensacion_max_f': 108.3, 'sensacion_min_f': None, 'punto_rocio_max_c': 0.0, 'punto_rocio_min_c': 0.0, 'punto_rocio_max_f': 32.0, 'punto_rocio_min_f': 32.0, 'rain_mm_str': None, 'rain_prob_porc': None, 'nubosidad_porc': 34.4, 'eto_mm': 6.2, 'eto_in': 0.24, 'radiacion_joules': 1990.6, 'radiacion_mjoules': 19.906, 'horas_frio': 0.0, 'HrsTempMenor10': 0.0, 'HrsTempMenor7_2': 0.0, 'HrsTempMenor0': 0.0, 'HrsTempMayor29': 430.0, 'U_richardson': 0.0, 'GradosDiaB10': 489.5, 'GradosDiaB4_5': 599.5, 'indice_estres': 117.5, 'fecha': '2023-08-25', 'icono': 0}\n",
      "{'temp_max_c': 40.0, 'temp_min_c': 28.0, 'temp_prom_c': 34.3, 'temp_max_f': 104.0, 'temp_min_f': 82.4, 'temp_prom_f': 93.7, 'hum_max_porc': 52.6, 'hum_prom_porc': 43.3, 'hum_min_porc': 35.1, 'viento_max_kmh': 17.8, 'viento_max_mph': 11.1, 'viento_rafaga_max_kmh': 26.7, 'viento_rafaga_max_mph': 16.6, 'sensacion_max_c': 45.6, 'sensacion_min_c': None, 'sensacion_max_f': 114.1, 'sensacion_min_f': None, 'punto_rocio_max_c': 0.0, 'punto_rocio_min_c': 0.0, 'punto_rocio_max_f': 32.0, 'punto_rocio_min_f': 32.0, 'rain_mm_str': None, 'rain_prob_porc': None, 'nubosidad_porc': 12.3, 'eto_mm': 6.2, 'eto_in': 0.24, 'radiacion_joules': 1944.3, 'radiacion_mjoules': 19.443, 'horas_frio': 0.0, 'HrsTempMenor10': 0.0, 'HrsTempMenor7_2': 0.0, 'HrsTempMenor0': 0.0, 'HrsTempMayor29': 452.0, 'U_richardson': 0.0, 'GradosDiaB10': 513.5, 'GradosDiaB4_5': 629.0, 'indice_estres': 158.0, 'fecha': '2023-08-26', 'icono': 0}\n",
      "{'temp_max_c': 40.9, 'temp_min_c': 29.4, 'temp_prom_c': 35.4, 'temp_max_f': 105.6, 'temp_min_f': 84.9, 'temp_prom_f': 95.7, 'hum_max_porc': 50.3, 'hum_prom_porc': 38.8, 'hum_min_porc': 30.0, 'viento_max_kmh': 13.8, 'viento_max_mph': 8.6, 'viento_rafaga_max_kmh': 20.7, 'viento_rafaga_max_mph': 12.9, 'sensacion_max_c': 44.9, 'sensacion_min_c': None, 'sensacion_max_f': 112.8, 'sensacion_min_f': None, 'punto_rocio_max_c': 0.0, 'punto_rocio_min_c': 0.0, 'punto_rocio_max_f': 32.0, 'punto_rocio_min_f': 32.0, 'rain_mm_str': None, 'rain_prob_porc': None, 'nubosidad_porc': 17.4, 'eto_mm': 5.9, 'eto_in': 0.23, 'radiacion_joules': 1834.7, 'radiacion_mjoules': 18.347, 'horas_frio': 0.0, 'HrsTempMenor10': 0.0, 'HrsTempMenor7_2': 0.0, 'HrsTempMenor0': 0.0, 'HrsTempMayor29': 476.0, 'U_richardson': 0.0, 'GradosDiaB10': 538.6, 'GradosDiaB4_5': 659.6, 'indice_estres': 188.9, 'fecha': '2023-08-27', 'icono': 0}\n",
      "{'temp_max_c': 42.7, 'temp_min_c': 30.1, 'temp_prom_c': 36.3, 'temp_max_f': 108.9, 'temp_min_f': 86.2, 'temp_prom_f': 97.3, 'hum_max_porc': 47.7, 'hum_prom_porc': 34.5, 'hum_min_porc': 23.0, 'viento_max_kmh': 11.2, 'viento_max_mph': 7.0, 'viento_rafaga_max_kmh': 16.8, 'viento_rafaga_max_mph': 10.4, 'sensacion_max_c': 44.9, 'sensacion_min_c': None, 'sensacion_max_f': 112.8, 'sensacion_min_f': None, 'punto_rocio_max_c': 0.0, 'punto_rocio_min_c': 0.0, 'punto_rocio_max_f': 32.0, 'punto_rocio_min_f': 32.0, 'rain_mm_str': None, 'rain_prob_porc': None, 'nubosidad_porc': 3.3, 'eto_mm': 6.5, 'eto_in': 0.26, 'radiacion_joules': 2073.6, 'radiacion_mjoules': 20.736, 'horas_frio': 0.0, 'HrsTempMenor10': 0.0, 'HrsTempMenor7_2': 0.0, 'HrsTempMenor0': 0.0, 'HrsTempMayor29': 500.0, 'U_richardson': 0.0, 'GradosDiaB10': 565.0, 'GradosDiaB4_5': 691.5, 'indice_estres': 218.6, 'fecha': '2023-08-28', 'icono': 0}\n",
      "{'temp_max_c': 44.2, 'temp_min_c': 31.2, 'temp_prom_c': 37.3, 'temp_max_f': 111.6, 'temp_min_f': 88.2, 'temp_prom_f': 99.1, 'hum_max_porc': 42.1, 'hum_prom_porc': 30.7, 'hum_min_porc': 20.5, 'viento_max_kmh': 17.0, 'viento_max_mph': 10.6, 'viento_rafaga_max_kmh': 25.5, 'viento_rafaga_max_mph': 15.8, 'sensacion_max_c': 46.1, 'sensacion_min_c': None, 'sensacion_max_f': 115.0, 'sensacion_min_f': None, 'punto_rocio_max_c': 0.0, 'punto_rocio_min_c': 0.0, 'punto_rocio_max_f': 32.0, 'punto_rocio_min_f': 32.0, 'rain_mm_str': None, 'rain_prob_porc': None, 'nubosidad_porc': 0.0, 'eto_mm': 7.1, 'eto_in': 0.28, 'radiacion_joules': 2100.3, 'radiacion_mjoules': 21.003, 'horas_frio': 0.0, 'HrsTempMenor10': 0.0, 'HrsTempMenor7_2': 0.0, 'HrsTempMenor0': 0.0, 'HrsTempMayor29': 524.0, 'U_richardson': 0.0, 'GradosDiaB10': 592.7, 'GradosDiaB4_5': 724.7, 'indice_estres': 247.4, 'fecha': '2023-08-29', 'icono': 0}\n",
      "{'temp_max_c': 39.9, 'temp_min_c': 28.3, 'temp_prom_c': 35.3, 'temp_max_f': 103.8, 'temp_min_f': 82.9, 'temp_prom_f': 95.5, 'hum_max_porc': 71.7, 'hum_prom_porc': 46.3, 'hum_min_porc': 33.1, 'viento_max_kmh': 32.2, 'viento_max_mph': 20.0, 'viento_rafaga_max_kmh': 48.3, 'viento_rafaga_max_mph': 30.0, 'sensacion_max_c': 46.1, 'sensacion_min_c': None, 'sensacion_max_f': 115.0, 'sensacion_min_f': None, 'punto_rocio_max_c': 0.0, 'punto_rocio_min_c': 0.0, 'punto_rocio_max_f': 32.0, 'punto_rocio_min_f': 32.0, 'rain_mm_str': None, 'rain_prob_porc': None, 'nubosidad_porc': 3.4, 'eto_mm': 8.2, 'eto_in': 0.32, 'radiacion_joules': 2066.4, 'radiacion_mjoules': 20.664, 'horas_frio': 0.0, 'HrsTempMenor10': 0.0, 'HrsTempMenor7_2': 0.0, 'HrsTempMenor0': 0.0, 'HrsTempMayor29': 547.0, 'U_richardson': 0.0, 'GradosDiaB10': 616.8, 'GradosDiaB4_5': 754.3, 'indice_estres': 150.9, 'fecha': '2023-08-30', 'icono': 0}\n",
      "{'temp_max_c': 36.3, 'temp_min_c': 27.4, 'temp_prom_c': 32.3, 'temp_max_f': 97.3, 'temp_min_f': 81.3, 'temp_prom_f': 90.1, 'hum_max_porc': 71.5, 'hum_prom_porc': 61.2, 'hum_min_porc': 53.4, 'viento_max_kmh': 31.0, 'viento_max_mph': 19.3, 'viento_rafaga_max_kmh': 46.5, 'viento_rafaga_max_mph': 28.9, 'sensacion_max_c': 46.0, 'sensacion_min_c': None, 'sensacion_max_f': 114.8, 'sensacion_min_f': None, 'punto_rocio_max_c': 0.0, 'punto_rocio_min_c': 0.0, 'punto_rocio_max_f': 32.0, 'punto_rocio_min_f': 32.0, 'rain_mm_str': None, 'rain_prob_porc': None, 'nubosidad_porc': 44.8, 'eto_mm': 7.3, 'eto_in': 0.29, 'radiacion_joules': 1902.2, 'radiacion_mjoules': 19.022, 'horas_frio': 0.0, 'HrsTempMenor10': 0.0, 'HrsTempMenor7_2': 0.0, 'HrsTempMenor0': 0.0, 'HrsTempMayor29': 564.0, 'U_richardson': 0.0, 'GradosDiaB10': 638.6, 'GradosDiaB4_5': 781.6, 'indice_estres': 66.0, 'fecha': '2023-08-31', 'icono': 0}\n",
      "{'temp_max_c': 36.8, 'temp_min_c': 27.2, 'temp_prom_c': 33.1, 'temp_max_f': 98.2, 'temp_min_f': 81.0, 'temp_prom_f': 91.6, 'hum_max_porc': 65.6, 'hum_prom_porc': 55.3, 'hum_min_porc': 46.0, 'viento_max_kmh': 21.9, 'viento_max_mph': 13.6, 'viento_rafaga_max_kmh': 32.8, 'viento_rafaga_max_mph': 20.4, 'sensacion_max_c': 45.4, 'sensacion_min_c': None, 'sensacion_max_f': 113.7, 'sensacion_min_f': None, 'punto_rocio_max_c': 0.0, 'punto_rocio_min_c': 0.0, 'punto_rocio_max_f': 32.0, 'punto_rocio_min_f': 32.0, 'rain_mm_str': None, 'rain_prob_porc': None, 'nubosidad_porc': 19.3, 'eto_mm': 7.1, 'eto_in': 0.28, 'radiacion_joules': 2008.0, 'radiacion_mjoules': 20.08, 'horas_frio': 0.0, 'HrsTempMenor10': 0.0, 'HrsTempMenor7_2': 0.0, 'HrsTempMenor0': 0.0, 'HrsTempMayor29': 583.0, 'U_richardson': 0.0, 'GradosDiaB10': 660.6, 'GradosDiaB4_5': 809.1, 'indice_estres': 95.0, 'fecha': '2023-09-01', 'icono': 0}\n",
      "{'temp_max_c': 37.5, 'temp_min_c': 28.3, 'temp_prom_c': 33.7, 'temp_max_f': 99.5, 'temp_min_f': 82.9, 'temp_prom_f': 92.7, 'hum_max_porc': 60.6, 'hum_prom_porc': 52.9, 'hum_min_porc': 48.7, 'viento_max_kmh': 18.4, 'viento_max_mph': 11.4, 'viento_rafaga_max_kmh': 27.6, 'viento_rafaga_max_mph': 17.1, 'sensacion_max_c': 46.9, 'sensacion_min_c': None, 'sensacion_max_f': 116.4, 'sensacion_min_f': None, 'punto_rocio_max_c': 0.0, 'punto_rocio_min_c': 0.0, 'punto_rocio_max_f': 32.0, 'punto_rocio_min_f': 32.0, 'rain_mm_str': None, 'rain_prob_porc': None, 'nubosidad_porc': 11.3, 'eto_mm': 6.9, 'eto_in': 0.27, 'radiacion_joules': 1897.1, 'radiacion_mjoules': 18.971, 'horas_frio': 0.0, 'HrsTempMenor10': 0.0, 'HrsTempMenor7_2': 0.0, 'HrsTempMenor0': 0.0, 'HrsTempMayor29': 604.0, 'U_richardson': 0.0, 'GradosDiaB10': 683.5, 'GradosDiaB4_5': 837.5, 'indice_estres': 107.4, 'fecha': '2023-09-02', 'icono': 0}\n",
      "[{'temp_max_c': 41.6, 'temp_min_c': 29.7, 'temp_prom_c': 35.1, 'hum_max_porc': 68.4, 'hum_prom_porc': 50.4, 'hum_min_porc': 29.2, 'viento_max_kmh': 20.5, 'viento_max_mph': 12.7, 'fecha': '2023-08-06'}, {'temp_max_c': 42.5, 'temp_min_c': 29.0, 'temp_prom_c': 36.1, 'hum_max_porc': 72.9, 'hum_prom_porc': 54.0, 'hum_min_porc': 35.9, 'viento_max_kmh': 25.0, 'viento_max_mph': 15.5, 'fecha': '2023-08-07'}, {'temp_max_c': 45.0, 'temp_min_c': 29.8, 'temp_prom_c': 37.2, 'hum_max_porc': 60.8, 'hum_prom_porc': 47.3, 'hum_min_porc': 29.4, 'viento_max_kmh': 27.4, 'viento_max_mph': 17.0, 'fecha': '2023-08-08'}, {'temp_max_c': 44.1, 'temp_min_c': 29.9, 'temp_prom_c': 37.5, 'hum_max_porc': 60.3, 'hum_prom_porc': 48.6, 'hum_min_porc': 42.7, 'viento_max_kmh': 27.5, 'viento_max_mph': 17.1, 'fecha': '2023-08-09'}, {'temp_max_c': 42.1, 'temp_min_c': 29.4, 'temp_prom_c': 36.1, 'hum_max_porc': 49.5, 'hum_prom_porc': 39.5, 'hum_min_porc': 32.6, 'viento_max_kmh': 19.3, 'viento_max_mph': 12.0, 'fecha': '2023-08-10'}, {'temp_max_c': 42.5, 'temp_min_c': 28.7, 'temp_prom_c': 36.3, 'hum_max_porc': 44.3, 'hum_prom_porc': 34.9, 'hum_min_porc': 27.9, 'viento_max_kmh': 21.0, 'viento_max_mph': 13.0, 'fecha': '2023-08-11'}, {'temp_max_c': 43.6, 'temp_min_c': 28.5, 'temp_prom_c': 36.4, 'hum_max_porc': 60.3, 'hum_prom_porc': 39.5, 'hum_min_porc': 26.1, 'viento_max_kmh': 16.7, 'viento_max_mph': 10.4, 'fecha': '2023-08-12'}, {'temp_max_c': 44.6, 'temp_min_c': 29.2, 'temp_prom_c': 37.2, 'hum_max_porc': 32.8, 'hum_prom_porc': 26.8, 'hum_min_porc': 21.7, 'viento_max_kmh': 17.1, 'viento_max_mph': 10.6, 'fecha': '2023-08-13'}, {'temp_max_c': 39.8, 'temp_min_c': 29.3, 'temp_prom_c': 34.8, 'hum_max_porc': 49.4, 'hum_prom_porc': 36.3, 'hum_min_porc': 28.5, 'viento_max_kmh': 19.6, 'viento_max_mph': 12.2, 'fecha': '2023-08-14'}, {'temp_max_c': 39.4, 'temp_min_c': 27.0, 'temp_prom_c': 33.4, 'hum_max_porc': 57.3, 'hum_prom_porc': 46.8, 'hum_min_porc': 42.7, 'viento_max_kmh': 32.9, 'viento_max_mph': 20.4, 'fecha': '2023-08-15'}, {'temp_max_c': 39.2, 'temp_min_c': 26.1, 'temp_prom_c': 33.3, 'hum_max_porc': 61.1, 'hum_prom_porc': 44.2, 'hum_min_porc': 32.9, 'viento_max_kmh': 28.2, 'viento_max_mph': 17.5, 'fecha': '2023-08-16'}, {'temp_max_c': 43.8, 'temp_min_c': 29.3, 'temp_prom_c': 36.6, 'hum_max_porc': 46.8, 'hum_prom_porc': 36.4, 'hum_min_porc': 28.5, 'viento_max_kmh': 27.5, 'viento_max_mph': 17.1, 'fecha': '2023-08-17'}, {'temp_max_c': 42.1, 'temp_min_c': 29.1, 'temp_prom_c': 35.2, 'hum_max_porc': 42.6, 'hum_prom_porc': 36.1, 'hum_min_porc': 30.5, 'viento_max_kmh': 20.6, 'viento_max_mph': 12.8, 'fecha': '2023-08-18'}, {'temp_max_c': 37.7, 'temp_min_c': 27.5, 'temp_prom_c': 33.3, 'hum_max_porc': 72.0, 'hum_prom_porc': 54.5, 'hum_min_porc': 43.2, 'viento_max_kmh': 22.0, 'viento_max_mph': 13.7, 'fecha': '2023-08-19'}, {'temp_max_c': 38.3, 'temp_min_c': 25.4, 'temp_prom_c': 32.3, 'hum_max_porc': 61.0, 'hum_prom_porc': 49.1, 'hum_min_porc': 41.0, 'viento_max_kmh': 24.8, 'viento_max_mph': 15.4, 'fecha': '2023-08-20'}, {'temp_max_c': 37.5, 'temp_min_c': 26.3, 'temp_prom_c': 33.0, 'hum_max_porc': 60.4, 'hum_prom_porc': 53.9, 'hum_min_porc': 43.2, 'viento_max_kmh': 23.0, 'viento_max_mph': 14.3, 'fecha': '2023-08-21'}, {'temp_max_c': 39.0, 'temp_min_c': 27.8, 'temp_prom_c': 33.7, 'hum_max_porc': 60.6, 'hum_prom_porc': 49.5, 'hum_min_porc': 41.2, 'viento_max_kmh': 17.3, 'viento_max_mph': 10.7, 'fecha': '2023-08-22'}, {'temp_max_c': 38.0, 'temp_min_c': 27.9, 'temp_prom_c': 33.9, 'hum_max_porc': 71.1, 'hum_prom_porc': 55.4, 'hum_min_porc': 46.4, 'viento_max_kmh': 22.5, 'viento_max_mph': 14.0, 'fecha': '2023-08-23'}, {'temp_max_c': 37.0, 'temp_min_c': 26.5, 'temp_prom_c': 32.2, 'hum_max_porc': 70.4, 'hum_prom_porc': 55.7, 'hum_min_porc': 45.4, 'viento_max_kmh': 20.0, 'viento_max_mph': 12.4, 'fecha': '2023-08-24'}, {'temp_max_c': 38.0, 'temp_min_c': 26.8, 'temp_prom_c': 31.8, 'hum_max_porc': 62.0, 'hum_prom_porc': 49.4, 'hum_min_porc': 37.8, 'viento_max_kmh': 13.1, 'viento_max_mph': 8.1, 'fecha': '2023-08-25'}, {'temp_max_c': 40.0, 'temp_min_c': 28.0, 'temp_prom_c': 34.3, 'hum_max_porc': 52.6, 'hum_prom_porc': 43.3, 'hum_min_porc': 35.1, 'viento_max_kmh': 17.8, 'viento_max_mph': 11.1, 'fecha': '2023-08-26'}, {'temp_max_c': 40.9, 'temp_min_c': 29.4, 'temp_prom_c': 35.4, 'hum_max_porc': 50.3, 'hum_prom_porc': 38.8, 'hum_min_porc': 30.0, 'viento_max_kmh': 13.8, 'viento_max_mph': 8.6, 'fecha': '2023-08-27'}, {'temp_max_c': 42.7, 'temp_min_c': 30.1, 'temp_prom_c': 36.3, 'hum_max_porc': 47.7, 'hum_prom_porc': 34.5, 'hum_min_porc': 23.0, 'viento_max_kmh': 11.2, 'viento_max_mph': 7.0, 'fecha': '2023-08-28'}, {'temp_max_c': 44.2, 'temp_min_c': 31.2, 'temp_prom_c': 37.3, 'hum_max_porc': 42.1, 'hum_prom_porc': 30.7, 'hum_min_porc': 20.5, 'viento_max_kmh': 17.0, 'viento_max_mph': 10.6, 'fecha': '2023-08-29'}, {'temp_max_c': 39.9, 'temp_min_c': 28.3, 'temp_prom_c': 35.3, 'hum_max_porc': 71.7, 'hum_prom_porc': 46.3, 'hum_min_porc': 33.1, 'viento_max_kmh': 32.2, 'viento_max_mph': 20.0, 'fecha': '2023-08-30'}, {'temp_max_c': 36.3, 'temp_min_c': 27.4, 'temp_prom_c': 32.3, 'hum_max_porc': 71.5, 'hum_prom_porc': 61.2, 'hum_min_porc': 53.4, 'viento_max_kmh': 31.0, 'viento_max_mph': 19.3, 'fecha': '2023-08-31'}, {'temp_max_c': 36.8, 'temp_min_c': 27.2, 'temp_prom_c': 33.1, 'hum_max_porc': 65.6, 'hum_prom_porc': 55.3, 'hum_min_porc': 46.0, 'viento_max_kmh': 21.9, 'viento_max_mph': 13.6, 'fecha': '2023-09-01'}, {'temp_max_c': 37.5, 'temp_min_c': 28.3, 'temp_prom_c': 33.7, 'hum_max_porc': 60.6, 'hum_prom_porc': 52.9, 'hum_min_porc': 48.7, 'viento_max_kmh': 18.4, 'viento_max_mph': 11.4, 'fecha': '2023-09-02'}]\n"
     ]
    }
   ],
   "source": [
    "\n",
    "future_list = []\n",
    "for i in future_data:\n",
    "    print(i)\n",
    "    new_dict = dict()\n",
    "    new_dict['temp_max_c'] = i['temp_max_c']\n",
    "    new_dict['temp_min_c'] = i['temp_min_c']\n",
    "    new_dict['temp_prom_c'] = i['temp_prom_c']\n",
    "    new_dict['hum_max_porc'] = i['hum_max_porc']\n",
    "    new_dict['hum_prom_porc'] = i['hum_prom_porc']\n",
    "    new_dict['hum_min_porc'] = i['hum_min_porc']\n",
    "    new_dict['viento_max_kmh'] = i['viento_max_kmh']\n",
    "    new_dict['viento_max_mph'] = i['viento_max_mph']\n",
    "    new_dict['fecha'] = i['fecha']\n",
    "    future_list.append(new_dict)\n",
    "\n",
    "print(future_list)"
   ]
  },
  {
   "cell_type": "code",
   "execution_count": null,
   "metadata": {},
   "outputs": [],
   "source": []
  }
 ],
 "metadata": {
  "kernelspec": {
   "display_name": "Python 3",
   "language": "python",
   "name": "python3"
  },
  "language_info": {
   "codemirror_mode": {
    "name": "ipython",
    "version": 3
   },
   "file_extension": ".py",
   "mimetype": "text/x-python",
   "name": "python",
   "nbconvert_exporter": "python",
   "pygments_lexer": "ipython3",
   "version": "3.10.6"
  },
  "orig_nbformat": 4
 },
 "nbformat": 4,
 "nbformat_minor": 2
}
